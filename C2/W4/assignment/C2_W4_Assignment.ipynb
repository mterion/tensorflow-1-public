{
  "nbformat": 4,
  "nbformat_minor": 0,
  "metadata": {
    "colab": {
      "name": "C2_W4_Assignment.ipynb",
      "provenance": [],
      "collapsed_sections": [],
      "include_colab_link": true
    },
    "kernelspec": {
      "display_name": "Python 3",
      "language": "python",
      "name": "python3"
    },
    "language_info": {
      "codemirror_mode": {
        "name": "ipython",
        "version": 3
      },
      "file_extension": ".py",
      "mimetype": "text/x-python",
      "name": "python",
      "nbconvert_exporter": "python",
      "pygments_lexer": "ipython3",
      "version": "3.8.5"
    },
    "accelerator": "GPU"
  },
  "cells": [
    {
      "cell_type": "markdown",
      "metadata": {
        "id": "view-in-github",
        "colab_type": "text"
      },
      "source": [
        "<a href=\"https://colab.research.google.com/github/mterion/tensorflow-1-public/blob/main/C2/W4/assignment/C2_W4_Assignment.ipynb\" target=\"_parent\"><img src=\"https://colab.research.google.com/assets/colab-badge.svg\" alt=\"Open In Colab\"/></a>"
      ]
    },
    {
      "cell_type": "code",
      "metadata": {
        "id": "zX4Kg8DUTKWO"
      },
      "source": [
        "#@title Licensed under the Apache License, Version 2.0 (the \"License\");\n",
        "# you may not use this file except in compliance with the License.\n",
        "# You may obtain a copy of the License at\n",
        "#\n",
        "# https://www.apache.org/licenses/LICENSE-2.0\n",
        "#\n",
        "# Unless required by applicable law or agreed to in writing, software\n",
        "# distributed under the License is distributed on an \"AS IS\" BASIS,\n",
        "# WITHOUT WARRANTIES OR CONDITIONS OF ANY KIND, either express or implied.\n",
        "# See the License for the specific language governing permissions and\n",
        "# limitations under the License."
      ],
      "execution_count": 1,
      "outputs": []
    },
    {
      "cell_type": "markdown",
      "metadata": {
        "id": "KGYHjVbZHv1G"
      },
      "source": [
        "**IMPORTANT NOTE:** This notebook is designed to run as a Colab. Click the button on top that says, `Open in Colab`, to run this notebook as a Colab. Running the notebook on your local machine might result in some of the code blocks throwing errors."
      ]
    },
    {
      "cell_type": "code",
      "metadata": {
        "id": "wYtuKeK0dImp"
      },
      "source": [
        "import csv\n",
        "import numpy as np\n",
        "import tensorflow as tf\n",
        "from tensorflow.keras.preprocessing.image import ImageDataGenerator\n",
        "from google.colab import files"
      ],
      "execution_count": 2,
      "outputs": []
    },
    {
      "cell_type": "code",
      "metadata": {
        "id": "4kxw-_rmcnVu",
        "outputId": "051c91ec-8e65-4399-d34e-b6b756b763ac",
        "colab": {
          "base_uri": "https://localhost:8080/"
        }
      },
      "source": [
        "# Source is thise one: https://www.kaggle.com/datamunge/sign-language-mnist\n",
        "# sign_mnist_train.csv\n",
        "!gdown --id 1z0DkA9BytlLxO1C0BAWzknLyQmZAp0HR\n",
        "# sign_mnist_test.csv\n",
        "!gdown --id 1z1BIj4qmri59GWBG4ivMNFtpZ4AXIbzg\n",
        "\n",
        "def get_data(filename):\n",
        "  # You will need to write code that will read the file passed\n",
        "  # into this function. The first line contains the column headers\n",
        "  # so you should ignore it\n",
        "  # Each successive line contians 785 comma separated values between 0 and 255\n",
        "  # The first value is the label\n",
        "  # The rest are the pixel values for that picture\n",
        "  # The function will return 2 np.array types. One with all the labels\n",
        "  # One with all the images\n",
        "  #\n",
        "  # Tips: \n",
        "  # If you read a full line (as 'row') then row[0] has the label\n",
        "  # and row[1:785] has the 784 pixel values\n",
        "  # Take a look at np.array_split to turn the 784 pixels into 28x28\n",
        "  # You are reading in strings, but need the values to be floats\n",
        "  # Check out np.array().astype for a conversion\n",
        "    with open(filename) as training_file:\n",
        "      csv_reader = csv.reader(training_file, delimiter = ',')\n",
        "      first_line = True\n",
        "      temp_images = []\n",
        "      temp_labels = []\n",
        "      for row in csv_reader:\n",
        "        if first_line:\n",
        "          first_line = False\n",
        "        else:\n",
        "          temp_labels.append(row[0])\n",
        "          image_data = row[1:785]\n",
        "          image_data_as_array = np.array_split(image_data, 28)\n",
        "          temp_images.append(image_data_as_array)\n",
        "      images = np.array(temp_images).astype('float')\n",
        "      labels = np.array(temp_labels).astype('float')\n",
        "\n",
        "    return images, labels\n",
        "\n",
        "\n",
        "training_images, training_labels = get_data('./sign_mnist_train.csv')\n",
        "testing_images, testing_labels = get_data('./sign_mnist_test.csv')\n",
        "\n",
        "# Keep these\n",
        "print(training_images.shape)\n",
        "print(training_labels.shape)\n",
        "print(testing_images.shape)\n",
        "print(testing_labels.shape)\n",
        "\n",
        "# Their output should be:\n",
        "# (27455, 28, 28)\n",
        "# (27455,)\n",
        "# (7172, 28, 28)\n",
        "# (7172,)"
      ],
      "execution_count": 23,
      "outputs": [
        {
          "output_type": "stream",
          "name": "stdout",
          "text": [
            "Downloading...\n",
            "From: https://drive.google.com/uc?id=1z0DkA9BytlLxO1C0BAWzknLyQmZAp0HR\n",
            "To: /content/sign_mnist_train.csv\n",
            "100% 83.3M/83.3M [00:00<00:00, 162MB/s]\n",
            "Downloading...\n",
            "From: https://drive.google.com/uc?id=1z1BIj4qmri59GWBG4ivMNFtpZ4AXIbzg\n",
            "To: /content/sign_mnist_test.csv\n",
            "100% 21.8M/21.8M [00:00<00:00, 133MB/s]\n",
            "(27455, 28, 28)\n",
            "(27455,)\n",
            "(7172, 28, 28)\n",
            "(7172,)\n"
          ]
        }
      ]
    },
    {
      "cell_type": "code",
      "metadata": {
        "id": "awoqRpyZdQkD",
        "outputId": "cb3fb5d0-ff1f-4891-8ab0-55b9cb37979e",
        "colab": {
          "base_uri": "https://localhost:8080/"
        }
      },
      "source": [
        "# In this section you will have to add another dimension to the data\n",
        "# So, for example, if your array is (10000, 28, 28)\n",
        "# You will need to make it (10000, 28, 28, 1)\n",
        "# Hint: np.expand_dims\n",
        "\n",
        "training_images = np.expand_dims(training_images, axis=3)\n",
        "testing_images = np.expand_dims(testing_images, axis = 3)\n",
        "\n",
        "train_datagen = ImageDataGenerator(\n",
        "    rescale = 1. / 255,\n",
        "    rotation_range = 40,\n",
        "    width_shift_range = 0.2,\n",
        "    height_shift_range = 0.2,\n",
        "    shear_range = 0.2,\n",
        "    zoom_range = 0.2,\n",
        "    horizontal_flip = True, \n",
        "    fill_mode = \"nearest\"\n",
        "    )\n",
        "\n",
        "validation_datagen = ImageDataGenerator(\n",
        "    rescale = 1. / 255\n",
        "    )\n",
        "\n",
        "# Keep These\n",
        "print(training_images.shape)\n",
        "print(testing_images.shape)\n",
        "\n",
        "    \n",
        "# Their output should be:\n",
        "# (27455, 28, 28, 1)\n",
        "# (7172, 28, 28, 1)"
      ],
      "execution_count": 24,
      "outputs": [
        {
          "output_type": "stream",
          "name": "stdout",
          "text": [
            "(27455, 28, 28, 1)\n",
            "(7172, 28, 28, 1)\n"
          ]
        }
      ]
    },
    {
      "cell_type": "code",
      "metadata": {
        "id": "Rmb7S32cgRqS",
        "outputId": "f984e95b-19e3-45aa-e93b-06451f4ae576",
        "colab": {
          "base_uri": "https://localhost:8080/"
        }
      },
      "source": [
        "# Define the model\n",
        "# Use no more than 2 Conv2D and 2 MaxPooling2D\n",
        "model = tf.keras.models.Sequential([\n",
        "  tf.keras.layers.Conv2D(32, (3,3), activation='relu', input_shape = (28, 28, 1)),\n",
        "  tf.keras.layers.MaxPool2D(2,2), \n",
        "  tf.keras.layers.Conv2D(64, (3,3), activation='relu'),\n",
        "  tf.keras.layers.MaxPool2D(2,2),\n",
        "  tf.keras.layers.Flatten(), \n",
        "  tf.keras.layers.Dropout(0.2), \n",
        "  tf.keras.layers.Dense(128, activation='relu'), \n",
        "  tf.keras.layers.Dense(26, activation='softmax') # 26 classes of letters (alphabet)                                             \n",
        "])\n",
        "\n",
        "# If you use categorical entropy instead of sparse_categorical_crossentropy, it will not work\n",
        "  # Use sparse categorical crossentropy when your classes are mutually exclusive (e.g. when each sample belongs exactly to one class) \n",
        "    # and categorical crossentropy when one sample can have multiple classes or labels are soft probabilities (like [0.5, 0.3, 0.2]).\n",
        "model.compile(loss = 'sparse_categorical_crossentropy',  \n",
        "              optimizer = tf.optimizers.Adam(), # This avoid importing e.g: from tensorflow.keras.optimizers import RMSprop\n",
        "              metrics = ['accuracy']   \n",
        ")\n",
        "\n",
        "history = model.fit(train_datagen.flow(training_images, training_labels, batch_size=32),\n",
        "    steps_per_epoch = len(training_images) / 32,\n",
        "    epochs = 15,\n",
        "    validation_data = validation_datagen.flow(testing_images, testing_labels, batch_size=32),\n",
        "    validation_steps = len(testing_images) / 32,    \n",
        ")\n",
        "\n",
        "model.evaluate(testing_images, testing_labels)\n",
        "\n",
        "# The output from model.evaluate should be close to:\n",
        "# [6.92426086682151, 0.56609035]\n"
      ],
      "execution_count": 30,
      "outputs": [
        {
          "output_type": "stream",
          "name": "stdout",
          "text": [
            "Epoch 1/15\n",
            "857/857 [==============================] - 12s 13ms/step - loss: 2.8501 - accuracy: 0.1368 - val_loss: 2.0896 - val_accuracy: 0.3113\n",
            "Epoch 2/15\n",
            "857/857 [==============================] - 11s 13ms/step - loss: 2.1488 - accuracy: 0.3220 - val_loss: 1.5726 - val_accuracy: 0.4755\n",
            "Epoch 3/15\n",
            "857/857 [==============================] - 11s 13ms/step - loss: 1.8039 - accuracy: 0.4234 - val_loss: 1.2608 - val_accuracy: 0.5871\n",
            "Epoch 4/15\n",
            "857/857 [==============================] - 11s 13ms/step - loss: 1.5955 - accuracy: 0.4838 - val_loss: 1.0314 - val_accuracy: 0.6620\n",
            "Epoch 5/15\n",
            "857/857 [==============================] - 11s 13ms/step - loss: 1.4159 - accuracy: 0.5345 - val_loss: 0.7606 - val_accuracy: 0.7709\n",
            "Epoch 6/15\n",
            "857/857 [==============================] - 11s 13ms/step - loss: 1.3102 - accuracy: 0.5680 - val_loss: 0.7752 - val_accuracy: 0.7635\n",
            "Epoch 7/15\n",
            "857/857 [==============================] - 11s 13ms/step - loss: 1.2066 - accuracy: 0.6033 - val_loss: 0.7231 - val_accuracy: 0.7655\n",
            "Epoch 8/15\n",
            "857/857 [==============================] - 11s 13ms/step - loss: 1.1282 - accuracy: 0.6267 - val_loss: 0.6590 - val_accuracy: 0.7814\n",
            "Epoch 9/15\n",
            "857/857 [==============================] - 11s 13ms/step - loss: 1.0604 - accuracy: 0.6454 - val_loss: 0.5504 - val_accuracy: 0.8130\n",
            "Epoch 10/15\n",
            "857/857 [==============================] - 11s 13ms/step - loss: 1.0103 - accuracy: 0.6646 - val_loss: 0.5334 - val_accuracy: 0.8257\n",
            "Epoch 11/15\n",
            "857/857 [==============================] - 11s 12ms/step - loss: 0.9530 - accuracy: 0.6830 - val_loss: 0.4636 - val_accuracy: 0.8433\n",
            "Epoch 12/15\n",
            "857/857 [==============================] - 11s 12ms/step - loss: 0.9107 - accuracy: 0.6943 - val_loss: 0.4784 - val_accuracy: 0.8438\n",
            "Epoch 13/15\n",
            "857/857 [==============================] - 11s 13ms/step - loss: 0.8758 - accuracy: 0.7085 - val_loss: 0.4513 - val_accuracy: 0.8377\n",
            "Epoch 14/15\n",
            "857/857 [==============================] - 11s 13ms/step - loss: 0.8329 - accuracy: 0.7247 - val_loss: 0.4050 - val_accuracy: 0.8523\n",
            "Epoch 15/15\n",
            "857/857 [==============================] - 11s 12ms/step - loss: 0.8046 - accuracy: 0.7281 - val_loss: 0.3864 - val_accuracy: 0.8627\n",
            "225/225 [==============================] - 1s 3ms/step - loss: 199.1351 - accuracy: 0.6028\n"
          ]
        },
        {
          "output_type": "execute_result",
          "data": {
            "text/plain": [
              "[199.1351318359375, 0.6027607321739197]"
            ]
          },
          "metadata": {},
          "execution_count": 30
        }
      ]
    },
    {
      "cell_type": "code",
      "metadata": {
        "id": "_Q3Zpr46dsij",
        "outputId": "74dadf62-e1fe-4f83-edfb-a12a8147e6ff",
        "colab": {
          "base_uri": "https://localhost:8080/",
          "height": 545
        }
      },
      "source": [
        "# Plot the chart for accuracy and loss on both training and validation\n",
        "\n",
        "import matplotlib.pyplot as plt\n",
        "acc = history.history['accuracy']\n",
        "val_acc = history.history['val_accuracy']\n",
        "loss = history.history['loss']\n",
        "val_loss = history.history['val_loss']\n",
        "\n",
        "epochs = range(len(acc))\n",
        "\n",
        "plt.plot(epochs, acc, 'r', label='Training accuracy')\n",
        "plt.plot(epochs, val_acc, 'b', label='Validation accuracy')\n",
        "plt.title('Training and validation accuracy')\n",
        "plt.legend()\n",
        "plt.figure()\n",
        "\n",
        "plt.plot(epochs, loss, 'r', label='Training Loss')\n",
        "plt.plot(epochs, val_loss, 'b', label='Validation Loss')\n",
        "plt.title('Training and validation loss')\n",
        "plt.legend()\n",
        "\n",
        "plt.show()"
      ],
      "execution_count": 31,
      "outputs": [
        {
          "output_type": "display_data",
          "data": {
            "image/png": "[encoded data removed]",
            "text/plain": [
              "<Figure size 432x288 with 1 Axes>"
            ]
          },
          "metadata": {
            "needs_background": "light"
          }
        },
        {
          "output_type": "display_data",
          "data": {
            "image/png": "[encoded data removed]",
            "text/plain": [
              "<Figure size 432x288 with 1 Axes>"
            ]
          },
          "metadata": {
            "needs_background": "light"
          }
        }
      ]
    }
  ]
}