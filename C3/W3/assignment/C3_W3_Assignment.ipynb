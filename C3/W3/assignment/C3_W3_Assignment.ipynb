{
  "nbformat": 4,
  "nbformat_minor": 0,
  "metadata": {
    "accelerator": "GPU",
    "colab": {
      "name": "C3_W3_Assignment.ipynb",
      "provenance": [],
      "include_colab_link": true
    },
    "kernelspec": {
      "display_name": "Python 3",
      "language": "python",
      "name": "python3"
    },
    "language_info": {
      "codemirror_mode": {
        "name": "ipython",
        "version": 3
      },
      "file_extension": ".py",
      "mimetype": "text/x-python",
      "name": "python",
      "nbconvert_exporter": "python",
      "pygments_lexer": "ipython3",
      "version": "3.8.5"
    }
  },
  "cells": [
    {
      "cell_type": "markdown",
      "metadata": {
        "id": "view-in-github",
        "colab_type": "text"
      },
      "source": [
        "<a href=\"https://colab.research.google.com/github/mterion/tensorflow-1-public/blob/main/C3/W3/assignment/C3_W3_Assignment.ipynb\" target=\"_parent\"><img src=\"https://colab.research.google.com/assets/colab-badge.svg\" alt=\"Open In Colab\"/></a>"
      ]
    },
    {
      "cell_type": "code",
      "metadata": {
        "id": "zX4Kg8DUTKWO"
      },
      "source": [
        "#@title Licensed under the Apache License, Version 2.0 (the \"License\");\n",
        "# you may not use this file except in compliance with the License.\n",
        "# You may obtain a copy of the License at\n",
        "#\n",
        "# https://www.apache.org/licenses/LICENSE-2.0\n",
        "#\n",
        "# Unless required by applicable law or agreed to in writing, software\n",
        "# distributed under the License is distributed on an \"AS IS\" BASIS,\n",
        "# WITHOUT WARRANTIES OR CONDITIONS OF ANY KIND, either express or implied.\n",
        "# See the License for the specific language governing permissions and\n",
        "# limitations under the License."
      ],
      "execution_count": 1,
      "outputs": []
    },
    {
      "cell_type": "markdown",
      "metadata": {
        "id": "gnU1TV9kV5f9"
      },
      "source": [
        "**Note:** This notebook can run using TensorFlow 2.5.0"
      ]
    },
    {
      "cell_type": "code",
      "metadata": {
        "id": "qTZDRvo5V5f9"
      },
      "source": [
        "#!pip install tensorflow==2.5.0"
      ],
      "execution_count": 2,
      "outputs": []
    },
    {
      "cell_type": "code",
      "metadata": {
        "id": "hmA6EzkQJ5jt"
      },
      "source": [
        "import json\n",
        "import tensorflow as tf\n",
        "import csv\n",
        "import random\n",
        "import numpy as np\n",
        "\n",
        "from tensorflow.keras.preprocessing.text import Tokenizer\n",
        "from tensorflow.keras.preprocessing.sequence import pad_sequences\n",
        "from tensorflow.keras.utils import to_categorical\n",
        "from tensorflow.keras import regularizers\n",
        "\n",
        "\n",
        "embedding_dim = 100\n",
        "max_length = 16\n",
        "trunc_type='post'\n",
        "padding_type='post'\n",
        "oov_tok = \"<OOV>\"\n",
        "training_size= 16000 #Your dataset size here. Experiment using smaller values (i.e. 16000), but don't forget to train on at least 160000 to see the best effects\n",
        "test_portion=.1\n",
        "\n",
        "\n"
      ],
      "execution_count": 3,
      "outputs": []
    },
    {
      "cell_type": "code",
      "metadata": {
        "id": "bM0l_dORKqE0",
        "colab": {
          "base_uri": "https://localhost:8080/"
        },
        "outputId": "a003753c-cccf-411f-abf1-d749d9f6ffba"
      },
      "source": [
        "# Note that I cleaned the Stanford dataset to remove LATIN1 encoding to make it easier for Python CSV reader\n",
        "# You can do that yourself with:\n",
        "# iconv -f LATIN1 -t UTF8 training.1600000.processed.noemoticon.csv -o training_cleaned.csv\n",
        "\n",
        "# training_cleaned.csv\n",
        "!gdown --id 1wd8KaeCSHxt-nEpMeuHFSNWrDp8joUXJ\n",
        "\n",
        "num_sentences = 0\n",
        "corpus = []\n",
        "\n",
        "with open(\"./training_cleaned.csv\") as csvfile:\n",
        "    reader = csv.reader(csvfile, delimiter=',')\n",
        "    for row in reader:\n",
        "        list_item=[]\n",
        "        list_item.append(row[5]) # The structure of the CSV data has the text in the 5th col and the labs in the 1st col, other cols are descriptive: \n",
        "        this_label = row[0]\n",
        "        if this_label =='0':\n",
        "          list_item.append(0)\n",
        "        else:\n",
        "          list_item.append(1)\n",
        "\n",
        "        #Create list items where the first item is the text, found in row[5], and the second is the label. Note that the label is a '0' or a '4' in the text. When it's the former, make\n",
        "        # your label to be 0, otherwise 1. Keep a count of the number of sentences in num_sentences\n",
        "        \n",
        "        num_sentences = num_sentences + 1\n",
        "        corpus.append(list_item)\n"
      ],
      "execution_count": 4,
      "outputs": [
        {
          "output_type": "stream",
          "name": "stdout",
          "text": [
            "Downloading...\n",
            "From: https://drive.google.com/uc?id=1wd8KaeCSHxt-nEpMeuHFSNWrDp8joUXJ\n",
            "To: /content/training_cleaned.csv\n",
            "100% 239M/239M [00:01<00:00, 135MB/s]\n"
          ]
        }
      ]
    },
    {
      "cell_type": "code",
      "source": [
        "print(\"Last list_item: \", list_item)\n",
        "print(\"Corpus[2]: \", corpus[2])\n",
        "print(\"num_sentences: \", num_sentences)\n",
        "print(\"len(corpus): \", len(corpus))\n"
      ],
      "metadata": {
        "colab": {
          "base_uri": "https://localhost:8080/"
        },
        "id": "XHEGrSid1b8f",
        "outputId": "3416cdcd-96bf-4121-98eb-fcd6ee5e09f2"
      },
      "execution_count": 5,
      "outputs": [
        {
          "output_type": "stream",
          "name": "stdout",
          "text": [
            "Last list_item:  ['happy #charitytuesday @theNSPCC @SparksCharity @SpeakingUpH4H ', 1]\n",
            "Corpus[2]:  ['@Kenichan I dived many times for the ball. Managed to save 50%  The rest go out of bounds', 0]\n",
            "num_sentences:  1600000\n",
            "len(corpus):  1600000\n"
          ]
        }
      ]
    },
    {
      "cell_type": "code",
      "metadata": {
        "id": "ohOGz24lsNAD"
      },
      "source": [
        "sentences=[]\n",
        "labels=[]\n",
        "random.shuffle(corpus)\n",
        "for x in range(training_size):\n",
        "    sentences.append(corpus[x][0])\n",
        "    labels.append(corpus[x][1])\n",
        "\n",
        "\n",
        "tokenizer = Tokenizer()\n",
        "tokenizer.fit_on_texts(sentences)\n",
        "\n",
        "word_index = tokenizer.word_index\n",
        "vocab_size=len(word_index)\n",
        "\n",
        "sequences = tokenizer.texts_to_sequences(sentences)\n",
        "padded = pad_sequences(sequences, maxlen=max_length, padding = padding_type, truncating = trunc_type)\n",
        "\n",
        "split = int(test_portion * training_size)\n",
        "\n",
        "test_sequences = padded[0:split]\n",
        "training_sequences = padded[split:training_size]\n",
        "test_labels = labels[0:split]\n",
        "training_labels = labels[split:training_size]"
      ],
      "execution_count": 6,
      "outputs": []
    },
    {
      "cell_type": "code",
      "metadata": {
        "id": "gIrtRem1En3N",
        "colab": {
          "base_uri": "https://localhost:8080/"
        },
        "outputId": "d15ef88a-d165-4b07-8ce4-43d483ee6276"
      },
      "source": [
        "print(vocab_size)\n",
        "print(word_index['i'])\n",
        "# Expected Output\n",
        "# 138856\n",
        "# 1"
      ],
      "execution_count": 7,
      "outputs": [
        {
          "output_type": "stream",
          "name": "stdout",
          "text": [
            "26667\n",
            "1\n"
          ]
        }
      ]
    },
    {
      "cell_type": "code",
      "metadata": {
        "id": "C1zdgJkusRh0",
        "colab": {
          "base_uri": "https://localhost:8080/"
        },
        "outputId": "ac21a4c7-6c2d-462d-8297-5fb047a7eee5"
      },
      "source": [
        "# Note this is the 100 dimension version of GloVe from Stanford\n",
        "\n",
        "# glove.6B.100d.txt\n",
        "!gdown --id 1W5vZy2etitAblLdFn8_DxnsQKzfFJ98g\n",
        "\n",
        "embeddings_index = {};\n",
        "with open('./glove.6B.100d.txt') as f:\n",
        "    for line in f:\n",
        "        values = line.split();\n",
        "        word = values[0];\n",
        "        coefs = np.asarray(values[1:], dtype='float32');\n",
        "        embeddings_index[word] = coefs;\n",
        "\n",
        "embeddings_matrix = np.zeros((vocab_size+1, embedding_dim));\n",
        "for word, i in word_index.items():\n",
        "    embedding_vector = embeddings_index.get(word);\n",
        "    if embedding_vector is not None:\n",
        "        embeddings_matrix[i] = embedding_vector;"
      ],
      "execution_count": 8,
      "outputs": [
        {
          "output_type": "stream",
          "name": "stdout",
          "text": [
            "Downloading...\n",
            "From: https://drive.google.com/uc?id=1W5vZy2etitAblLdFn8_DxnsQKzfFJ98g\n",
            "To: /content/glove.6B.100d.txt\n",
            "100% 347M/347M [00:03<00:00, 91.5MB/s]\n"
          ]
        }
      ]
    },
    {
      "cell_type": "code",
      "metadata": {
        "id": "71NLk_lpFLNt",
        "colab": {
          "base_uri": "https://localhost:8080/"
        },
        "outputId": "31931bc6-4cf7-4408-f8ef-29ebfacb17da"
      },
      "source": [
        "print(len(embeddings_matrix))\n",
        "# Expected Output\n",
        "# 138857"
      ],
      "execution_count": 9,
      "outputs": [
        {
          "output_type": "stream",
          "name": "stdout",
          "text": [
            "26668\n"
          ]
        }
      ]
    },
    {
      "cell_type": "code",
      "source": [
        "# Need to padd the np_arrays\n",
        "print(\"type(training_sequences): \", type(training_sequences))\n",
        "print(\"training_sequences.shape: \", training_sequences.shape)\n",
        "\n",
        "training_padded = np.array(training_sequences)\n",
        "training_labels = np.array(training_labels)\n",
        "testing_padded = np.array(test_sequences)\n",
        "testing_labels = np.array(test_labels)\n",
        "\n",
        "print(\"type(training_padded): \", type(training_padded))\n",
        "print(\"training_padded.shape: \", training_padded.shape)\n",
        "\n",
        "## Me: don't understand why we need to np.array again all those element, as their type and shape are already equivalent\n",
        "  ## But if you don't do it, the model.fit will fail\n",
        "\n"
      ],
      "metadata": {
        "id": "Tv0BzwXe8X_h",
        "outputId": "a7cce727-d480-444d-9f3d-a1064c1110ae",
        "colab": {
          "base_uri": "https://localhost:8080/"
        }
      },
      "execution_count": 15,
      "outputs": [
        {
          "output_type": "stream",
          "name": "stdout",
          "text": [
            "type(training_sequences):  <class 'numpy.ndarray'>\n",
            "training_sequences.shape:  (14400, 16)\n",
            "type(training_padded):  <class 'numpy.ndarray'>\n",
            "training_padded.shape:  (14400, 16)\n"
          ]
        }
      ]
    },
    {
      "cell_type": "code",
      "metadata": {
        "id": "iKKvbuEBOGFz",
        "colab": {
          "base_uri": "https://localhost:8080/"
        },
        "outputId": "c8caef0f-a07d-41a8-cec8-e958922118e2"
      },
      "source": [
        "model = tf.keras.Sequential([\n",
        "    tf.keras.layers.Embedding(vocab_size+1, embedding_dim, input_length=max_length, weights=[embeddings_matrix], trainable=False),\n",
        "    tf.keras.layers.Dropout(0.2),\n",
        "    tf.keras.layers.Conv1D(64, 5, activation='relu'),\n",
        "    tf.keras.layers.MaxPooling1D(pool_size=4),\n",
        "    tf.keras.layers.LSTM(64),\n",
        "    tf.keras.layers.Dense(1, activation='sigmoid')\n",
        "])\n",
        "model.compile(loss = \"binary_crossentropy\", optimizer = 'adam', metrics = ['accuracy'])\n",
        "model.summary()\n",
        "\n",
        "num_epochs = 20\n",
        "\n",
        "# history = model.fit(training_sequences, training_labels, epochs=num_epochs, validation_data=(test_sequences, test_labels), verbose=2)\n",
        "history = model.fit(training_padded, training_labels, epochs=num_epochs, validation_data=(testing_padded, testing_labels), verbose=2)\n",
        "\n",
        "print(\"Training Complete\")\n"
      ],
      "execution_count": 17,
      "outputs": [
        {
          "output_type": "stream",
          "name": "stdout",
          "text": [
            "Model: \"sequential_1\"\n",
            "_________________________________________________________________\n",
            " Layer (type)                Output Shape              Param #   \n",
            "=================================================================\n",
            " embedding_1 (Embedding)     (None, 16, 100)           2666800   \n",
            "                                                                 \n",
            " dropout_1 (Dropout)         (None, 16, 100)           0         \n",
            "                                                                 \n",
            " conv1d_1 (Conv1D)           (None, 12, 64)            32064     \n",
            "                                                                 \n",
            " max_pooling1d_1 (MaxPooling  (None, 3, 64)            0         \n",
            " 1D)                                                             \n",
            "                                                                 \n",
            " lstm_1 (LSTM)               (None, 64)                33024     \n",
            "                                                                 \n",
            " dense_1 (Dense)             (None, 1)                 65        \n",
            "                                                                 \n",
            "=================================================================\n",
            "Total params: 2,731,953\n",
            "Trainable params: 65,153\n",
            "Non-trainable params: 2,666,800\n",
            "_________________________________________________________________\n",
            "Epoch 1/20\n",
            "450/450 - 3s - loss: 0.6271 - accuracy: 0.6438 - val_loss: 0.5628 - val_accuracy: 0.6994 - 3s/epoch - 7ms/step\n",
            "Epoch 2/20\n",
            "450/450 - 2s - loss: 0.5693 - accuracy: 0.7019 - val_loss: 0.5782 - val_accuracy: 0.6881 - 2s/epoch - 3ms/step\n",
            "Epoch 3/20\n",
            "450/450 - 2s - loss: 0.5341 - accuracy: 0.7346 - val_loss: 0.5688 - val_accuracy: 0.6988 - 2s/epoch - 4ms/step\n",
            "Epoch 4/20\n",
            "450/450 - 2s - loss: 0.5114 - accuracy: 0.7426 - val_loss: 0.5506 - val_accuracy: 0.7225 - 2s/epoch - 4ms/step\n",
            "Epoch 5/20\n",
            "450/450 - 2s - loss: 0.4813 - accuracy: 0.7683 - val_loss: 0.5594 - val_accuracy: 0.7194 - 2s/epoch - 4ms/step\n",
            "Epoch 6/20\n",
            "450/450 - 2s - loss: 0.4493 - accuracy: 0.7894 - val_loss: 0.5624 - val_accuracy: 0.7194 - 2s/epoch - 4ms/step\n",
            "Epoch 7/20\n",
            "450/450 - 2s - loss: 0.4175 - accuracy: 0.8101 - val_loss: 0.5729 - val_accuracy: 0.7075 - 2s/epoch - 3ms/step\n",
            "Epoch 8/20\n",
            "450/450 - 2s - loss: 0.4035 - accuracy: 0.8143 - val_loss: 0.5736 - val_accuracy: 0.6944 - 2s/epoch - 3ms/step\n",
            "Epoch 9/20\n",
            "450/450 - 2s - loss: 0.3784 - accuracy: 0.8290 - val_loss: 0.6073 - val_accuracy: 0.6969 - 2s/epoch - 3ms/step\n",
            "Epoch 10/20\n",
            "450/450 - 2s - loss: 0.3602 - accuracy: 0.8376 - val_loss: 0.6112 - val_accuracy: 0.7106 - 2s/epoch - 3ms/step\n",
            "Epoch 11/20\n",
            "450/450 - 2s - loss: 0.3422 - accuracy: 0.8478 - val_loss: 0.6308 - val_accuracy: 0.7106 - 2s/epoch - 3ms/step\n",
            "Epoch 12/20\n",
            "450/450 - 2s - loss: 0.3194 - accuracy: 0.8613 - val_loss: 0.6455 - val_accuracy: 0.7144 - 2s/epoch - 3ms/step\n",
            "Epoch 13/20\n",
            "450/450 - 2s - loss: 0.3100 - accuracy: 0.8659 - val_loss: 0.6691 - val_accuracy: 0.7044 - 2s/epoch - 3ms/step\n",
            "Epoch 14/20\n",
            "450/450 - 2s - loss: 0.2995 - accuracy: 0.8694 - val_loss: 0.6615 - val_accuracy: 0.6988 - 2s/epoch - 3ms/step\n",
            "Epoch 15/20\n",
            "450/450 - 2s - loss: 0.2899 - accuracy: 0.8764 - val_loss: 0.6855 - val_accuracy: 0.7000 - 2s/epoch - 4ms/step\n",
            "Epoch 16/20\n",
            "450/450 - 2s - loss: 0.2730 - accuracy: 0.8815 - val_loss: 0.7151 - val_accuracy: 0.7056 - 2s/epoch - 3ms/step\n",
            "Epoch 17/20\n",
            "450/450 - 2s - loss: 0.2700 - accuracy: 0.8819 - val_loss: 0.7290 - val_accuracy: 0.6950 - 2s/epoch - 3ms/step\n",
            "Epoch 18/20\n",
            "450/450 - 2s - loss: 0.2527 - accuracy: 0.8919 - val_loss: 0.7202 - val_accuracy: 0.7094 - 2s/epoch - 3ms/step\n",
            "Epoch 19/20\n",
            "450/450 - 2s - loss: 0.2470 - accuracy: 0.8960 - val_loss: 0.7624 - val_accuracy: 0.6856 - 2s/epoch - 3ms/step\n",
            "Epoch 20/20\n",
            "450/450 - 2s - loss: 0.2461 - accuracy: 0.8956 - val_loss: 0.7673 - val_accuracy: 0.7094 - 2s/epoch - 3ms/step\n",
            "Training Complete\n"
          ]
        }
      ]
    },
    {
      "cell_type": "code",
      "metadata": {
        "id": "qxju4ItJKO8F",
        "colab": {
          "base_uri": "https://localhost:8080/",
          "height": 608
        },
        "outputId": "742b8c1e-5f7c-40c6-bd72-8223c00204f7"
      },
      "source": [
        "import matplotlib.image  as mpimg\n",
        "import matplotlib.pyplot as plt\n",
        "\n",
        "#-----------------------------------------------------------\n",
        "# Retrieve a list of list results on training and test data\n",
        "# sets for each training epoch\n",
        "#-----------------------------------------------------------\n",
        "acc=history.history['accuracy']\n",
        "val_acc=history.history['val_accuracy']\n",
        "loss=history.history['loss']\n",
        "val_loss=history.history['val_loss']\n",
        "\n",
        "epochs=range(len(acc)) # Get number of epochs\n",
        "\n",
        "#------------------------------------------------\n",
        "# Plot training and validation accuracy per epoch\n",
        "#------------------------------------------------\n",
        "plt.plot(epochs, acc, 'r')\n",
        "plt.plot(epochs, val_acc, 'b')\n",
        "plt.title('Training and validation accuracy')\n",
        "plt.xlabel(\"Epochs\")\n",
        "plt.ylabel(\"Accuracy\")\n",
        "plt.legend([\"Accuracy\", \"Validation Accuracy\"])\n",
        "\n",
        "plt.figure()\n",
        "\n",
        "#------------------------------------------------\n",
        "# Plot training and validation loss per epoch\n",
        "#------------------------------------------------\n",
        "plt.plot(epochs, loss, 'r')\n",
        "plt.plot(epochs, val_loss, 'b')\n",
        "plt.title('Training and validation loss')\n",
        "plt.xlabel(\"Epochs\")\n",
        "plt.ylabel(\"Loss\")\n",
        "plt.legend([\"Loss\", \"Validation Loss\"])\n",
        "\n",
        "plt.figure()\n",
        "\n",
        "\n",
        "# Expected Output\n",
        "# A chart where the validation loss does not increase sharply!"
      ],
      "execution_count": 18,
      "outputs": [
        {
          "output_type": "execute_result",
          "data": {
            "text/plain": [
              "<Figure size 432x288 with 0 Axes>"
            ]
          },
          "metadata": {},
          "execution_count": 18
        },
        {
          "output_type": "display_data",
          "data": {
            "image/png": "[encoded data removed]",
            "text/plain": [
              "<Figure size 432x288 with 1 Axes>"
            ]
          },
          "metadata": {
            "needs_background": "light"
          }
        },
        {
          "output_type": "display_data",
          "data": {
            "image/png": "[encoded data removed]",
            "text/plain": [
              "<Figure size 432x288 with 1 Axes>"
            ]
          },
          "metadata": {
            "needs_background": "light"
          }
        },
        {
          "output_type": "display_data",
          "data": {
            "text/plain": [
              "<Figure size 432x288 with 0 Axes>"
            ]
          },
          "metadata": {}
        }
      ]
    }
  ]
}