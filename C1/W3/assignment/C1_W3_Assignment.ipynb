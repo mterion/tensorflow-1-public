{
  "nbformat": 4,
  "nbformat_minor": 0,
  "metadata": {
    "colab": {
      "name": "C1_W3_Assignment.ipynb",
      "provenance": [],
      "collapsed_sections": [],
      "include_colab_link": true
    },
    "kernelspec": {
      "display_name": "Python 3",
      "language": "python",
      "name": "python3"
    },
    "language_info": {
      "codemirror_mode": {
        "name": "ipython",
        "version": 3
      },
      "file_extension": ".py",
      "mimetype": "text/x-python",
      "name": "python",
      "nbconvert_exporter": "python",
      "pygments_lexer": "ipython3",
      "version": "3.8.5"
    },
    "accelerator": "GPU"
  },
  "cells": [
    {
      "cell_type": "markdown",
      "metadata": {
        "id": "view-in-github",
        "colab_type": "text"
      },
      "source": [
        "<a href=\"https://colab.research.google.com/github/mterion/tensorflow-1-public/blob/main/C1/W3/assignment/C1_W3_Assignment.ipynb\" target=\"_parent\"><img src=\"https://colab.research.google.com/assets/colab-badge.svg\" alt=\"Open In Colab\"/></a>"
      ]
    },
    {
      "cell_type": "code",
      "metadata": {
        "id": "zX4Kg8DUTKWO"
      },
      "source": [
        "#@title Licensed under the Apache License, Version 2.0 (the \"License\");\n",
        "# you may not use this file except in compliance with the License.\n",
        "# You may obtain a copy of the License at\n",
        "#\n",
        "# https://www.apache.org/licenses/LICENSE-2.0\n",
        "#\n",
        "# Unless required by applicable law or agreed to in writing, software\n",
        "# distributed under the License is distributed on an \"AS IS\" BASIS,\n",
        "# WITHOUT WARRANTIES OR CONDITIONS OF ANY KIND, either express or implied.\n",
        "# See the License for the specific language governing permissions and\n",
        "# limitations under the License."
      ],
      "execution_count": 1,
      "outputs": []
    },
    {
      "cell_type": "markdown",
      "metadata": {
        "id": "iQjHqsmTAVLU"
      },
      "source": [
        "In the videos you looked at how you would improve Fashion MNIST using Convolutions. For your exercise see if you can improve MNIST to 99.8% accuracy or more using only a single convolutional layer and a single MaxPooling 2D. You should stop training once the accuracy goes above this amount. It should happen in less than 20 epochs, so it's ok to hard code the number of epochs for training, but your training must end once it hits the above metric. If it doesn't, then you'll need to redesign your layers.\n",
        "\n",
        "I've started the code for you -- you need to finish it!\n",
        "\n",
        "When 99.8% accuracy has been hit, you should print out the string \"Reached 99.8% accuracy so cancelling training!\"\n",
        "\n",
        "**Things to Note:**\n",
        "1. When coding the `class myCallback`, Python 3 will run into an error\n",
        "```python\n",
        "TypeError: '>' not supported between instances of 'NoneType' and 'float'\n",
        "```\n",
        "when using the code\n",
        "```python\n",
        "if(logs.get('accuracy')>0.99):\n",
        "```\n",
        "\n",
        "For Python 3, use the following equivalent code line\n",
        "\n",
        "```python\n",
        "if logs.get('accuracy') is not None and logs.get('accuracy') > 0.99:\n",
        "```\n",
        "\n",
        "2. You can run the notebook using TensorFlow 2.5.0"
      ]
    },
    {
      "cell_type": "code",
      "metadata": {
        "id": "Nvz_oKwpFj0d"
      },
      "source": [
        "#!pip install tensorflow==2.5.0"
      ],
      "execution_count": 4,
      "outputs": []
    },
    {
      "cell_type": "code",
      "metadata": {
        "id": "Dqpxwb6UFj0d",
        "outputId": "94093652-d8c3-4103-c06d-02752cb6e552",
        "colab": {
          "base_uri": "https://localhost:8080/"
        }
      },
      "source": [
        "import tensorflow as tf\n",
        "\n",
        "print(tf.__version__)"
      ],
      "execution_count": 5,
      "outputs": [
        {
          "output_type": "stream",
          "name": "stdout",
          "text": [
            "2.7.0\n"
          ]
        }
      ]
    },
    {
      "cell_type": "code",
      "metadata": {
        "id": "sfQRyaJWAIdg"
      },
      "source": [
        "# GRADED FUNCTION: train_mnist_conv\n",
        "def train_mnist_conv():\n",
        "    # Please write your code only where you are indicated.\n",
        "    # please do not remove model fitting inline comments.\n",
        "\n",
        "    # YOUR CODE STARTS HERE\n",
        "    class myCallback(tf.keras.callbacks.Callback):\n",
        "      def on_epoch_end(self, epoch, logs={}):\n",
        "        if logs.get('accuracy') is not None and logs.get('accuracy') > 0.998:\n",
        "          print(\"\\nReached 99.8% accuracy so cancelling training!\")\n",
        "          self.model.stop_training = True\n",
        "    \n",
        "    # YOUR CODE ENDS HERE\n",
        "\n",
        "    mnist = tf.keras.datasets.mnist\n",
        "    (training_images, training_labels), (test_images, test_labels) = mnist.load_data() # path=path not written bec will fail\n",
        "   \n",
        "    # YOUR CODE STARTS HERE\n",
        "    callbacks = myCallback()\n",
        "\n",
        "    training_images = training_images.reshape(60000,28,28,1) # need to reshape bec input_shape array needed for conv\n",
        "    training_images = training_images / 255.0\n",
        "    test_images = test_images.reshape(10000,28,28,1)\n",
        "    test_images = test_images / 255\n",
        "\n",
        "    # YOUR CODE ENDS HERE\n",
        "\n",
        "    model = tf.keras.models.Sequential([\n",
        "            tf.keras.layers.Conv2D(32, (3,3), activation='relu', input_shape=(28,28,1)),\n",
        "            tf.keras.layers.MaxPool2D(2,2),\n",
        "            tf.keras.layers.Flatten(),\n",
        "            tf.keras.layers.Dense(128, activation='relu'),\n",
        "            tf.keras.layers.Dense(10, activation='softmax')\n",
        "    ])\n",
        "\n",
        "    model.compile(optimizer='adam', loss='sparse_categorical_crossentropy', metrics=['accuracy'])\n",
        "    \n",
        "    # model fitting\n",
        "    history = model.fit(training_images, training_labels, epochs = 20, callbacks=[callbacks])\n",
        "    # try on test\n",
        "    test_loss, test_acc = model.evaluate(test_images, test_labels)\n",
        "    print(\"test_acc: \", test_acc)    \n",
        "\n",
        "    return history.epoch, history.history['accuracy'][-1]\n",
        "\n",
        "# My tests:\n",
        "## if Conv2D(32): stoped after epochs = 8, train_acc = 0.9980, test_acc = 0.9884\n",
        "## if Conv2D(64): stoped after epochs = 9, train_acc = 0.9984, test_acc = 0.9871\n",
        "## if Conv2D(128): stoped after epochs = 8, train_acc = 0.9981, test_acc = 0.9885\n",
        "## if Conv2D(256): stoped after epochs = 8, train_acc = 0.9982, test_acc = 0.9844\n",
        "\n",
        "# Concl: see that the data set is simple, increasing the nr of Conv2D filter doesn't improve results\n",
        "  # Doing with Conv2D with 32 filter works perfectly well\n"
      ],
      "execution_count": 21,
      "outputs": []
    },
    {
      "cell_type": "code",
      "metadata": {
        "id": "oVIz0Z-JFj0e",
        "outputId": "384c3950-c9b2-492c-a757-64e7a7869507",
        "colab": {
          "base_uri": "https://localhost:8080/"
        }
      },
      "source": [
        "_, _ = train_mnist_conv()"
      ],
      "execution_count": 22,
      "outputs": [
        {
          "output_type": "stream",
          "name": "stdout",
          "text": [
            "Epoch 1/20\n",
            "   5/1875 [..............................] - ETA: 23s - loss: 1.9100 - accuracy: 0.3875  WARNING:tensorflow:Callback method `on_train_batch_end` is slow compared to the batch time (batch time: 0.0024s vs `on_train_batch_end` time: 0.0089s). Check your callbacks.\n",
            "1875/1875 [==============================] - 18s 9ms/step - loss: 0.1152 - accuracy: 0.9648\n",
            "Epoch 2/20\n",
            "1875/1875 [==============================] - 18s 9ms/step - loss: 0.0416 - accuracy: 0.9870\n",
            "Epoch 3/20\n",
            "1875/1875 [==============================] - 18s 9ms/step - loss: 0.0248 - accuracy: 0.9919\n",
            "Epoch 4/20\n",
            "1875/1875 [==============================] - 18s 9ms/step - loss: 0.0153 - accuracy: 0.9953\n",
            "Epoch 5/20\n",
            "1875/1875 [==============================] - 18s 9ms/step - loss: 0.0112 - accuracy: 0.9961\n",
            "Epoch 6/20\n",
            "1875/1875 [==============================] - 18s 9ms/step - loss: 0.0094 - accuracy: 0.9968\n",
            "Epoch 7/20\n",
            "1875/1875 [==============================] - 18s 9ms/step - loss: 0.0075 - accuracy: 0.9973\n",
            "Epoch 8/20\n",
            "1873/1875 [============================>.] - ETA: 0s - loss: 0.0055 - accuracy: 0.9982\n",
            "Reached 99.8% accuracy so cancelling training!\n",
            "1875/1875 [==============================] - 18s 9ms/step - loss: 0.0055 - accuracy: 0.9982\n",
            "313/313 [==============================] - 2s 5ms/step - loss: 0.0777 - accuracy: 0.9844\n",
            "test_acc:  0.9843999743461609\n"
          ]
        }
      ]
    }
  ]
}