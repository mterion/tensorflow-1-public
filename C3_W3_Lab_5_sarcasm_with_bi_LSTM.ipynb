{
  "nbformat": 4,
  "nbformat_minor": 0,
  "metadata": {
    "accelerator": "GPU",
    "colab": {
      "name": "C3_W3_Lab_5_sarcasm_with_bi_LSTM.ipynb",
      "provenance": [],
      "collapsed_sections": [],
      "include_colab_link": true
    },
    "kernelspec": {
      "name": "python3",
      "display_name": "Python 3"
    },
    "language_info": {
      "name": "python"
    }
  },
  "cells": [
    {
      "cell_type": "markdown",
      "metadata": {
        "id": "view-in-github",
        "colab_type": "text"
      },
      "source": [
        "<a href=\"https://colab.research.google.com/github/mterion/tensorflow-1-public/blob/main/C3_W3_Lab_5_sarcasm_with_bi_LSTM.ipynb\" target=\"_parent\"><img src=\"https://colab.research.google.com/assets/colab-badge.svg\" alt=\"Open In Colab\"/></a>"
      ]
    },
    {
      "cell_type": "code",
      "metadata": {
        "id": "zX4Kg8DUTKWO"
      },
      "source": [
        "#@title Licensed under the Apache License, Version 2.0 (the \"License\");\n",
        "# you may not use this file except in compliance with the License.\n",
        "# You may obtain a copy of the License at\n",
        "#\n",
        "# https://www.apache.org/licenses/LICENSE-2.0\n",
        "#\n",
        "# Unless required by applicable law or agreed to in writing, software\n",
        "# distributed under the License is distributed on an \"AS IS\" BASIS,\n",
        "# WITHOUT WARRANTIES OR CONDITIONS OF ANY KIND, either express or implied.\n",
        "# See the License for the specific language governing permissions and\n",
        "# limitations under the License."
      ],
      "execution_count": 2,
      "outputs": []
    },
    {
      "cell_type": "markdown",
      "metadata": {
        "id": "DAAo7FxNJOv8"
      },
      "source": [
        "**IMPORTANT NOTE:** This notebook is designed to run as a Colab. Click the button on top that says, `Open in Colab`, to run this notebook as a Colab. Running the notebook on your local machine might result in some of the code blocks throwing errors."
      ]
    },
    {
      "cell_type": "markdown",
      "metadata": {
        "id": "o2nwqAkdJOv9"
      },
      "source": [
        "**Note:** This notebook can run using TensorFlow 2.5.0"
      ]
    },
    {
      "cell_type": "code",
      "metadata": {
        "id": "krV8SxsqJOv9"
      },
      "source": [
        "#!pip install tensorflow==2.5.0"
      ],
      "execution_count": 3,
      "outputs": []
    },
    {
      "cell_type": "code",
      "metadata": {
        "id": "jGwXGIXvFhXW",
        "outputId": "1a3c43ae-e261-4473-9659-403ef6bb6761",
        "colab": {
          "base_uri": "https://localhost:8080/"
        }
      },
      "source": [
        "import numpy as np\n",
        "\n",
        "import json\n",
        "import tensorflow as tf\n",
        "\n",
        "from tensorflow.keras.preprocessing.text import Tokenizer\n",
        "from tensorflow.keras.preprocessing.sequence import pad_sequences\n",
        "\n",
        "# sarcasm.json\n",
        "#!gdown --id 1dRzdJS7-cZS4S5CuUc32MZYSLJGkkxnp\n",
        "!gdown --id 1xRU3xY5-tkiPGvlz5xBJ18_pHWSRzI4v\n",
        "\n",
        "vocab_size = 1000\n",
        "embedding_dim = 16\n",
        "max_length = 120\n",
        "trunc_type='post'\n",
        "padding_type='post'\n",
        "oov_tok = \"<OOV>\"\n",
        "training_size = 20000\n",
        "\n",
        "\n",
        "with open(\"./sarcasm.json\", 'r') as f:\n",
        "    datastore = json.load(f)\n",
        "\n",
        "sentences = []\n",
        "labels = []\n",
        "urls = []\n",
        "for item in datastore:\n",
        "    sentences.append(item['headline'])\n",
        "    labels.append(item['is_sarcastic'])\n",
        "\n",
        "training_sentences = sentences[0:training_size]\n",
        "testing_sentences = sentences[training_size:]\n",
        "training_labels = labels[0:training_size]\n",
        "testing_labels = labels[training_size:]\n",
        "\n",
        "tokenizer = Tokenizer(num_words=vocab_size, oov_token=oov_tok)\n",
        "tokenizer.fit_on_texts(training_sentences)\n",
        "\n",
        "word_index = tokenizer.word_index\n",
        "\n",
        "training_sequences = tokenizer.texts_to_sequences(training_sentences)\n",
        "training_padded = pad_sequences(training_sequences, maxlen=max_length, padding=padding_type, truncating=trunc_type)\n",
        "\n",
        "testing_sequences = tokenizer.texts_to_sequences(testing_sentences)\n",
        "testing_padded = pad_sequences(testing_sequences, maxlen=max_length, padding=padding_type, truncating=trunc_type)\n",
        "\n",
        "#print(training_sequences)\n",
        "# print(testing_sequences)"
      ],
      "execution_count": 4,
      "outputs": [
        {
          "output_type": "stream",
          "name": "stdout",
          "text": [
            "Downloading...\n",
            "From: https://drive.google.com/uc?id=1xRU3xY5-tkiPGvlz5xBJ18_pHWSRzI4v\n",
            "To: /content/sarcasm.json\n",
            "\r  0% 0.00/5.64M [00:00<?, ?B/s]\r100% 5.64M/5.64M [00:00<00:00, 112MB/s]\n"
          ]
        }
      ]
    },
    {
      "cell_type": "code",
      "source": [
        "model = tf.keras.Sequential([\n",
        "    tf.keras.layers.Embedding(vocab_size, embedding_dim, input_length=max_length),\n",
        "    tf.keras.layers.Bidirectional(tf.keras.layers.LSTM(32)),\n",
        "    tf.keras.layers.Dense(24, activation='relu'),\n",
        "    tf.keras.layers.Dense(1, activation='sigmoid')\n",
        "])\n",
        "model.compile(loss='binary_crossentropy',optimizer='adam',metrics=['accuracy'])\n",
        "model.summary()\n",
        "\n",
        "num_epochs = 50\n",
        "training_padded = np.array(training_padded)\n",
        "training_labels = np.array(training_labels)\n",
        "testing_padded = np.array(testing_padded)\n",
        "testing_labels = np.array(testing_labels)\n",
        "\n"
      ],
      "metadata": {
        "id": "2hsh-2jzcuVt",
        "outputId": "648e1f08-0805-4b9f-a6ae-c7aa1a2ab06b",
        "colab": {
          "base_uri": "https://localhost:8080/"
        }
      },
      "execution_count": 7,
      "outputs": [
        {
          "output_type": "stream",
          "name": "stdout",
          "text": [
            "Model: \"sequential\"\n",
            "_________________________________________________________________\n",
            " Layer (type)                Output Shape              Param #   \n",
            "=================================================================\n",
            " embedding (Embedding)       (None, 120, 16)           16000     \n",
            "                                                                 \n",
            " bidirectional (Bidirectiona  (None, 64)               12544     \n",
            " l)                                                              \n",
            "                                                                 \n",
            " dense (Dense)               (None, 24)                1560      \n",
            "                                                                 \n",
            " dense_1 (Dense)             (None, 1)                 25        \n",
            "                                                                 \n",
            "=================================================================\n",
            "Total params: 30,129\n",
            "Trainable params: 30,129\n",
            "Non-trainable params: 0\n",
            "_________________________________________________________________\n"
          ]
        }
      ]
    },
    {
      "cell_type": "code",
      "source": [
        "history = model.fit(training_padded, training_labels, epochs=num_epochs, validation_data=(testing_padded, testing_labels), verbose=1)\n"
      ],
      "metadata": {
        "id": "fZR6tYrwdtYQ",
        "outputId": "0d5a3265-bf56-45b3-9b1c-a2032cc45169",
        "colab": {
          "base_uri": "https://localhost:8080/"
        }
      },
      "execution_count": 8,
      "outputs": [
        {
          "output_type": "stream",
          "name": "stdout",
          "text": [
            "Epoch 1/50\n",
            "625/625 [==============================] - 15s 15ms/step - loss: 0.4589 - accuracy: 0.7672 - val_loss: 0.3879 - val_accuracy: 0.8234\n",
            "Epoch 2/50\n",
            "625/625 [==============================] - 7s 12ms/step - loss: 0.3565 - accuracy: 0.8364 - val_loss: 0.3896 - val_accuracy: 0.8189\n",
            "Epoch 3/50\n",
            "625/625 [==============================] - 8s 12ms/step - loss: 0.3347 - accuracy: 0.8511 - val_loss: 0.3827 - val_accuracy: 0.8290\n",
            "Epoch 4/50\n",
            "625/625 [==============================] - 8s 13ms/step - loss: 0.3210 - accuracy: 0.8569 - val_loss: 0.3748 - val_accuracy: 0.8323\n",
            "Epoch 5/50\n",
            "625/625 [==============================] - 7s 12ms/step - loss: 0.3061 - accuracy: 0.8627 - val_loss: 0.3730 - val_accuracy: 0.8334\n",
            "Epoch 6/50\n",
            "625/625 [==============================] - 10s 16ms/step - loss: 0.2966 - accuracy: 0.8694 - val_loss: 0.3836 - val_accuracy: 0.8341\n",
            "Epoch 7/50\n",
            "625/625 [==============================] - 7s 12ms/step - loss: 0.2859 - accuracy: 0.8755 - val_loss: 0.3845 - val_accuracy: 0.8299\n",
            "Epoch 8/50\n",
            "625/625 [==============================] - 7s 12ms/step - loss: 0.2784 - accuracy: 0.8789 - val_loss: 0.3983 - val_accuracy: 0.8295\n",
            "Epoch 9/50\n",
            "625/625 [==============================] - 7s 12ms/step - loss: 0.2701 - accuracy: 0.8816 - val_loss: 0.3914 - val_accuracy: 0.8289\n",
            "Epoch 10/50\n",
            "625/625 [==============================] - 8s 12ms/step - loss: 0.2636 - accuracy: 0.8851 - val_loss: 0.4037 - val_accuracy: 0.8304\n",
            "Epoch 11/50\n",
            "625/625 [==============================] - 8s 12ms/step - loss: 0.2562 - accuracy: 0.8885 - val_loss: 0.4100 - val_accuracy: 0.8292\n",
            "Epoch 12/50\n",
            "625/625 [==============================] - 9s 14ms/step - loss: 0.2471 - accuracy: 0.8928 - val_loss: 0.4191 - val_accuracy: 0.8264\n",
            "Epoch 13/50\n",
            "625/625 [==============================] - 7s 12ms/step - loss: 0.2415 - accuracy: 0.8949 - val_loss: 0.4228 - val_accuracy: 0.8255\n",
            "Epoch 14/50\n",
            "625/625 [==============================] - 7s 12ms/step - loss: 0.2309 - accuracy: 0.9018 - val_loss: 0.4497 - val_accuracy: 0.8241\n",
            "Epoch 15/50\n",
            "625/625 [==============================] - 7s 12ms/step - loss: 0.2256 - accuracy: 0.9055 - val_loss: 0.4520 - val_accuracy: 0.8250\n",
            "Epoch 16/50\n",
            "625/625 [==============================] - 8s 13ms/step - loss: 0.2165 - accuracy: 0.9071 - val_loss: 0.4695 - val_accuracy: 0.8205\n",
            "Epoch 17/50\n",
            "625/625 [==============================] - 7s 12ms/step - loss: 0.2106 - accuracy: 0.9108 - val_loss: 0.4816 - val_accuracy: 0.8229\n",
            "Epoch 18/50\n",
            "625/625 [==============================] - 7s 12ms/step - loss: 0.2027 - accuracy: 0.9123 - val_loss: 0.5048 - val_accuracy: 0.8208\n",
            "Epoch 19/50\n",
            "625/625 [==============================] - 7s 12ms/step - loss: 0.1962 - accuracy: 0.9171 - val_loss: 0.5093 - val_accuracy: 0.8219\n",
            "Epoch 20/50\n",
            "625/625 [==============================] - 7s 12ms/step - loss: 0.1903 - accuracy: 0.9195 - val_loss: 0.5352 - val_accuracy: 0.8143\n",
            "Epoch 21/50\n",
            "625/625 [==============================] - 7s 12ms/step - loss: 0.1825 - accuracy: 0.9234 - val_loss: 0.5958 - val_accuracy: 0.8159\n",
            "Epoch 22/50\n",
            "625/625 [==============================] - 7s 12ms/step - loss: 0.1767 - accuracy: 0.9258 - val_loss: 0.6190 - val_accuracy: 0.8085\n",
            "Epoch 23/50\n",
            "625/625 [==============================] - 7s 12ms/step - loss: 0.1705 - accuracy: 0.9287 - val_loss: 0.6077 - val_accuracy: 0.8131\n",
            "Epoch 24/50\n",
            "625/625 [==============================] - 7s 12ms/step - loss: 0.1645 - accuracy: 0.9327 - val_loss: 0.6627 - val_accuracy: 0.8070\n",
            "Epoch 25/50\n",
            "625/625 [==============================] - 7s 12ms/step - loss: 0.1577 - accuracy: 0.9346 - val_loss: 0.6913 - val_accuracy: 0.8041\n",
            "Epoch 26/50\n",
            "625/625 [==============================] - 7s 12ms/step - loss: 0.1497 - accuracy: 0.9388 - val_loss: 0.7089 - val_accuracy: 0.8067\n",
            "Epoch 27/50\n",
            "625/625 [==============================] - 7s 12ms/step - loss: 0.1441 - accuracy: 0.9414 - val_loss: 0.7292 - val_accuracy: 0.8141\n",
            "Epoch 28/50\n",
            "625/625 [==============================] - 7s 12ms/step - loss: 0.1412 - accuracy: 0.9434 - val_loss: 0.7873 - val_accuracy: 0.8047\n",
            "Epoch 29/50\n",
            "625/625 [==============================] - 7s 12ms/step - loss: 0.1324 - accuracy: 0.9470 - val_loss: 0.8391 - val_accuracy: 0.8053\n",
            "Epoch 30/50\n",
            "625/625 [==============================] - 7s 12ms/step - loss: 0.1319 - accuracy: 0.9470 - val_loss: 0.8149 - val_accuracy: 0.8030\n",
            "Epoch 31/50\n",
            "625/625 [==============================] - 7s 12ms/step - loss: 0.1265 - accuracy: 0.9484 - val_loss: 0.8420 - val_accuracy: 0.8019\n",
            "Epoch 32/50\n",
            "625/625 [==============================] - 7s 12ms/step - loss: 0.1201 - accuracy: 0.9511 - val_loss: 0.9504 - val_accuracy: 0.8004\n",
            "Epoch 33/50\n",
            "625/625 [==============================] - 7s 12ms/step - loss: 0.1178 - accuracy: 0.9513 - val_loss: 0.8975 - val_accuracy: 0.7995\n",
            "Epoch 34/50\n",
            "625/625 [==============================] - 7s 12ms/step - loss: 0.1131 - accuracy: 0.9542 - val_loss: 0.9401 - val_accuracy: 0.8000\n",
            "Epoch 35/50\n",
            "625/625 [==============================] - 7s 12ms/step - loss: 0.1063 - accuracy: 0.9558 - val_loss: 1.0651 - val_accuracy: 0.7994\n",
            "Epoch 36/50\n",
            "625/625 [==============================] - 7s 12ms/step - loss: 0.0998 - accuracy: 0.9603 - val_loss: 1.0878 - val_accuracy: 0.7953\n",
            "Epoch 37/50\n",
            "625/625 [==============================] - 7s 12ms/step - loss: 0.1009 - accuracy: 0.9596 - val_loss: 1.0883 - val_accuracy: 0.7965\n",
            "Epoch 38/50\n",
            "625/625 [==============================] - 7s 12ms/step - loss: 0.0963 - accuracy: 0.9610 - val_loss: 1.1666 - val_accuracy: 0.7949\n",
            "Epoch 39/50\n",
            "625/625 [==============================] - 7s 12ms/step - loss: 0.0881 - accuracy: 0.9653 - val_loss: 1.1260 - val_accuracy: 0.8062\n",
            "Epoch 40/50\n",
            "625/625 [==============================] - 7s 12ms/step - loss: 0.0836 - accuracy: 0.9664 - val_loss: 1.2918 - val_accuracy: 0.7897\n",
            "Epoch 41/50\n",
            "625/625 [==============================] - 7s 12ms/step - loss: 0.0872 - accuracy: 0.9653 - val_loss: 1.0939 - val_accuracy: 0.7955\n",
            "Epoch 42/50\n",
            "625/625 [==============================] - 8s 12ms/step - loss: 0.0800 - accuracy: 0.9690 - val_loss: 1.2880 - val_accuracy: 0.7931\n",
            "Epoch 43/50\n",
            "625/625 [==============================] - 8s 12ms/step - loss: 0.0765 - accuracy: 0.9708 - val_loss: 1.3419 - val_accuracy: 0.7939\n",
            "Epoch 44/50\n",
            "625/625 [==============================] - 8s 12ms/step - loss: 0.0745 - accuracy: 0.9712 - val_loss: 1.3355 - val_accuracy: 0.7991\n",
            "Epoch 45/50\n",
            "625/625 [==============================] - 8s 12ms/step - loss: 0.0714 - accuracy: 0.9725 - val_loss: 1.3551 - val_accuracy: 0.7928\n",
            "Epoch 46/50\n",
            "625/625 [==============================] - 8s 12ms/step - loss: 0.0686 - accuracy: 0.9733 - val_loss: 1.4881 - val_accuracy: 0.7985\n",
            "Epoch 47/50\n",
            "625/625 [==============================] - 8s 12ms/step - loss: 0.0720 - accuracy: 0.9714 - val_loss: 1.3551 - val_accuracy: 0.7985\n",
            "Epoch 48/50\n",
            "625/625 [==============================] - 8s 12ms/step - loss: 0.0657 - accuracy: 0.9747 - val_loss: 1.4670 - val_accuracy: 0.7962\n",
            "Epoch 49/50\n",
            "625/625 [==============================] - 8s 12ms/step - loss: 0.0594 - accuracy: 0.9779 - val_loss: 1.5420 - val_accuracy: 0.8003\n",
            "Epoch 50/50\n",
            "625/625 [==============================] - 8s 12ms/step - loss: 0.0581 - accuracy: 0.9772 - val_loss: 1.5098 - val_accuracy: 0.7952\n"
          ]
        }
      ]
    },
    {
      "cell_type": "code",
      "metadata": {
        "id": "g9DC6dmLF8DC",
        "colab": {
          "base_uri": "https://localhost:8080/",
          "height": 543
        },
        "outputId": "c10d99d5-f2da-4a22-a4bb-10e21e33ecfe"
      },
      "source": [
        "import matplotlib.pyplot as plt\n",
        "\n",
        "\n",
        "def plot_graphs(history, string):\n",
        "  plt.plot(history.history[string])\n",
        "  plt.plot(history.history['val_'+string])\n",
        "  plt.xlabel(\"Epochs\")\n",
        "  plt.ylabel(string)\n",
        "  plt.legend([string, 'val_'+string])\n",
        "  plt.show()\n",
        "\n",
        "plot_graphs(history, 'accuracy')\n",
        "plot_graphs(history, 'loss')"
      ],
      "execution_count": 9,
      "outputs": [
        {
          "output_type": "display_data",
          "data": {
            "image/png": "[encoded data removed]",
            "text/plain": [
              "<Figure size 432x288 with 1 Axes>"
            ]
          },
          "metadata": {
            "needs_background": "light"
          }
        },
        {
          "output_type": "display_data",
          "data": {
            "image/png": "[encoded data removed]",
            "text/plain": [
              "<Figure size 432x288 with 1 Axes>"
            ]
          },
          "metadata": {
            "needs_background": "light"
          }
        }
      ]
    },
    {
      "cell_type": "code",
      "metadata": {
        "id": "7ZEZIUppGhdi"
      },
      "source": [
        "model.save(\"test.h5\")"
      ],
      "execution_count": 10,
      "outputs": []
    }
  ]
}