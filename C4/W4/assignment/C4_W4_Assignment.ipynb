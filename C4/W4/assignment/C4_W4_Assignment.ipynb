{
  "nbformat": 4,
  "nbformat_minor": 0,
  "metadata": {
    "accelerator": "GPU",
    "colab": {
      "name": "C4_W4_Assignment.ipynb",
      "provenance": [],
      "collapsed_sections": [],
      "include_colab_link": true
    },
    "kernelspec": {
      "display_name": "Python 3",
      "language": "python",
      "name": "python3"
    },
    "language_info": {
      "codemirror_mode": {
        "name": "ipython",
        "version": 3
      },
      "file_extension": ".py",
      "mimetype": "text/x-python",
      "name": "python",
      "nbconvert_exporter": "python",
      "pygments_lexer": "ipython3",
      "version": "3.8.5"
    }
  },
  "cells": [
    {
      "cell_type": "markdown",
      "metadata": {
        "id": "view-in-github",
        "colab_type": "text"
      },
      "source": [
        "<a href=\"https://colab.research.google.com/github/mterion/tensorflow-1-public/blob/main/C4/W4/assignment/C4_W4_Assignment.ipynb\" target=\"_parent\"><img src=\"https://colab.research.google.com/assets/colab-badge.svg\" alt=\"Open In Colab\"/></a>"
      ]
    },
    {
      "cell_type": "code",
      "metadata": {
        "id": "zX4Kg8DUTKWO"
      },
      "source": [
        "#@title Licensed under the Apache License, Version 2.0 (the \"License\");\n",
        "# you may not use this file except in compliance with the License.\n",
        "# You may obtain a copy of the License at\n",
        "#\n",
        "# https://www.apache.org/licenses/LICENSE-2.0\n",
        "#\n",
        "# Unless required by applicable law or agreed to in writing, software\n",
        "# distributed under the License is distributed on an \"AS IS\" BASIS,\n",
        "# WITHOUT WARRANTIES OR CONDITIONS OF ANY KIND, either express or implied.\n",
        "# See the License for the specific language governing permissions and\n",
        "# limitations under the License."
      ],
      "execution_count": 1,
      "outputs": []
    },
    {
      "cell_type": "markdown",
      "metadata": {
        "id": "1m0njwZtsvy_"
      },
      "source": [
        "**Note:** This notebook can run using TensorFlow 2.5.0"
      ]
    },
    {
      "cell_type": "code",
      "metadata": {
        "id": "D5DDeGwLsvzA"
      },
      "source": [
        "#!pip install tensorflow==2.5.0"
      ],
      "execution_count": null,
      "outputs": []
    },
    {
      "cell_type": "code",
      "metadata": {
        "id": "56XEQOGknrAk",
        "outputId": "9949e16f-22b9-4ae7-8668-3bd691228c8a",
        "colab": {
          "base_uri": "https://localhost:8080/"
        }
      },
      "source": [
        "import tensorflow as tf\n",
        "print(tf.__version__)"
      ],
      "execution_count": 2,
      "outputs": [
        {
          "output_type": "stream",
          "name": "stdout",
          "text": [
            "2.8.0\n"
          ]
        }
      ]
    },
    {
      "cell_type": "code",
      "metadata": {
        "id": "sLl52leVp5wU"
      },
      "source": [
        "import numpy as np\n",
        "import matplotlib.pyplot as plt\n",
        "def plot_series(time, series, format=\"-\", start=0, end=None):\n",
        "    plt.plot(time[start:end], series[start:end], format)\n",
        "    plt.xlabel(\"Time\")\n",
        "    plt.ylabel(\"Value\")\n",
        "    plt.grid(True)"
      ],
      "execution_count": 3,
      "outputs": []
    },
    {
      "cell_type": "code",
      "metadata": {
        "id": "tP7oqUdkk0gY",
        "outputId": "d4e5d03d-658c-4eea-e5f1-9b042fbe2f63",
        "colab": {
          "base_uri": "https://localhost:8080/"
        }
      },
      "source": [
        "!wget --no-check-certificate \\\n",
        "    https://raw.githubusercontent.com/jbrownlee/Datasets/master/daily-min-temperatures.csv \\\n",
        "    -O /tmp/daily-min-temperatures.csv"
      ],
      "execution_count": 4,
      "outputs": [
        {
          "output_type": "stream",
          "name": "stdout",
          "text": [
            "--2022-02-24 05:27:14--  https://raw.githubusercontent.com/jbrownlee/Datasets/master/daily-min-temperatures.csv\n",
            "Resolving raw.githubusercontent.com (raw.githubusercontent.com)... 185.199.108.133, 185.199.109.133, 185.199.110.133, ...\n",
            "Connecting to raw.githubusercontent.com (raw.githubusercontent.com)|185.199.108.133|:443... connected.\n",
            "HTTP request sent, awaiting response... 200 OK\n",
            "Length: 67921 (66K) [text/plain]\n",
            "Saving to: ‘/tmp/daily-min-temperatures.csv’\n",
            "\n",
            "\r          /tmp/dail   0%[                    ]       0  --.-KB/s               \r/tmp/daily-min-temp 100%[===================>]  66.33K  --.-KB/s    in 0.006s  \n",
            "\n",
            "2022-02-24 05:27:14 (10.4 MB/s) - ‘/tmp/daily-min-temperatures.csv’ saved [67921/67921]\n",
            "\n"
          ]
        }
      ]
    },
    {
      "cell_type": "code",
      "metadata": {
        "id": "NcG9r1eClbTh",
        "outputId": "da4fbf6d-10a8-492c-f5c6-6b086734646e",
        "colab": {
          "base_uri": "https://localhost:8080/",
          "height": 388
        }
      },
      "source": [
        "import csv\n",
        "time_step = []\n",
        "temps = []\n",
        "\n",
        "with open('/tmp/daily-min-temperatures.csv') as csvfile:\n",
        "  reader = csv.reader(csvfile, delimiter=\",\")\n",
        "  next(reader)\n",
        "  step=0\n",
        "  for row in reader:\n",
        "    temps.append(float(row[1]))\n",
        "    time_step.append(step)\n",
        "    step = step + 1\n",
        "\n",
        "series = np.array(temps)\n",
        "time = np.array(time_step)\n",
        "plt.figure(figsize=(10, 6))\n",
        "plot_series(time, series)"
      ],
      "execution_count": 5,
      "outputs": [
        {
          "output_type": "display_data",
          "data": {
            "image/png": "[encoded data removed]",
            "text/plain": [
              "<Figure size 720x432 with 1 Axes>"
            ]
          },
          "metadata": {
            "needs_background": "light"
          }
        }
      ]
    },
    {
      "cell_type": "code",
      "metadata": {
        "id": "L92YRw_IpCFG"
      },
      "source": [
        "split_time = 2500\n",
        "time_train = time[:split_time]\n",
        "x_train = series[:split_time]\n",
        "time_valid = time[split_time:]\n",
        "x_valid = series[split_time:]\n",
        "\n",
        "window_size = 30\n",
        "batch_size = 32\n",
        "shuffle_buffer_size = 1000\n"
      ],
      "execution_count": 6,
      "outputs": []
    },
    {
      "cell_type": "code",
      "metadata": {
        "id": "lJwUUZscnG38"
      },
      "source": [
        "def windowed_dataset(series, window_size, batch_size, shuffle_buffer):\n",
        "    series = tf.expand_dims(series, axis = -1)\n",
        "    ds = tf.data.Dataset.from_tensor_slices(series)\n",
        "    ds = ds.window(window_size + 1, shift = 1, drop_remainder = True) # + 1 is for the label which  is y\n",
        "    ds = ds.flat_map(lambda w: w.batch(window_size + 1))\n",
        "    ds = ds.shuffle(shuffle_buffer)\n",
        "    ds = ds.map(lambda w: (w[:-1], w[1:]))\n",
        "    return ds.batch(batch_size).prefetch(1)"
      ],
      "execution_count": 11,
      "outputs": []
    },
    {
      "cell_type": "code",
      "metadata": {
        "id": "4XwGrf-A_wF0"
      },
      "source": [
        "def model_forecast(model, series, window_size):\n",
        "    ds = tf.data.Dataset.from_tensor_slices(series)\n",
        "    ds = ds.window(window_size, shift = 1, drop_remainder = True) # no + 1, bec forecasting, the y will be predicted\n",
        "    ds = ds.flat_map(lambda w: w.batch(window_size))\n",
        "    ds = ds.batch(32).prefetch(1)\n",
        "    forecast = model.predict(ds)\n",
        "    return forecast"
      ],
      "execution_count": 10,
      "outputs": []
    },
    {
      "cell_type": "code",
      "metadata": {
        "id": "AclfYY3Mn6Ph",
        "outputId": "36d67741-0545-40aa-fc44-448844d4c932",
        "colab": {
          "base_uri": "https://localhost:8080/"
        }
      },
      "source": [
        "tf.keras.backend.clear_session()\n",
        "tf.random.set_seed(51)\n",
        "np.random.seed(51)\n",
        "window_size = 64\n",
        "batch_size = 256\n",
        "train_set = windowed_dataset(x_train, window_size, batch_size, shuffle_buffer_size)\n",
        "print(train_set)\n",
        "print(x_train.shape)\n",
        "\n",
        "model = tf.keras.models.Sequential([\n",
        "  tf.keras.layers.Conv1D(filters=32, kernel_size=5,\n",
        "                         strides = 1, padding=\"causal\", activation=\"relu\",\n",
        "                         input_shape=[None, 1]),\n",
        "  tf.keras.layers.LSTM(64, return_sequences=True),\n",
        "  tf.keras.layers.LSTM(64, return_sequences=True),\n",
        "  tf.keras.layers.Dense(30, activation=\"relu\"), \n",
        "  tf.keras.layers.Dense(10, activation=\"relu\"),\n",
        "  tf.keras.layers.Dense(1),\n",
        "  tf.keras.layers.Lambda(lambda x: x * 400)\n",
        "])\n",
        "\n",
        "lr_schedule = tf.keras.callbacks.LearningRateScheduler(\n",
        "    lambda epoch: 1e-8 * 10**(epoch / 20))\n",
        "optimizer = tf.keras.optimizers.SGD(learning_rate=1e-8, momentum=0.9)\n",
        "model.compile(loss=tf.keras.losses.Huber(),\n",
        "              optimizer=optimizer,\n",
        "              metrics=[\"mae\"])\n",
        "history = model.fit(train_set, epochs=100, callbacks=[lr_schedule])\n"
      ],
      "execution_count": 13,
      "outputs": [
        {
          "output_type": "stream",
          "name": "stdout",
          "text": [
            "<PrefetchDataset element_spec=(TensorSpec(shape=(None, None, 1), dtype=tf.float64, name=None), TensorSpec(shape=(None, None, 1), dtype=tf.float64, name=None))>\n",
            "(2500,)\n",
            "Epoch 1/100\n",
            "10/10 [==============================] - 13s 30ms/step - loss: 31.1571 - mae: 31.6550 - lr: 1.0000e-08\n",
            "Epoch 2/100\n",
            "10/10 [==============================] - 0s 28ms/step - loss: 30.5778 - mae: 31.0756 - lr: 1.1220e-08\n",
            "Epoch 3/100\n",
            "10/10 [==============================] - 0s 26ms/step - loss: 29.6825 - mae: 30.1801 - lr: 1.2589e-08\n",
            "Epoch 4/100\n",
            "10/10 [==============================] - 0s 26ms/step - loss: 28.5613 - mae: 29.0586 - lr: 1.4125e-08\n",
            "Epoch 5/100\n",
            "10/10 [==============================] - 0s 28ms/step - loss: 27.1974 - mae: 27.6945 - lr: 1.5849e-08\n",
            "Epoch 6/100\n",
            "10/10 [==============================] - 0s 28ms/step - loss: 25.5017 - mae: 25.9986 - lr: 1.7783e-08\n",
            "Epoch 7/100\n",
            "10/10 [==============================] - 0s 30ms/step - loss: 23.3464 - mae: 23.8429 - lr: 1.9953e-08\n",
            "Epoch 8/100\n",
            "10/10 [==============================] - 0s 29ms/step - loss: 20.6147 - mae: 21.1108 - lr: 2.2387e-08\n",
            "Epoch 9/100\n",
            "10/10 [==============================] - 0s 30ms/step - loss: 17.3142 - mae: 17.8091 - lr: 2.5119e-08\n",
            "Epoch 10/100\n",
            "10/10 [==============================] - 0s 29ms/step - loss: 13.6448 - mae: 14.1371 - lr: 2.8184e-08\n",
            "Epoch 11/100\n",
            "10/10 [==============================] - 0s 28ms/step - loss: 10.1272 - mae: 10.6152 - lr: 3.1623e-08\n",
            "Epoch 12/100\n",
            "10/10 [==============================] - 0s 29ms/step - loss: 7.6174 - mae: 8.1025 - lr: 3.5481e-08\n",
            "Epoch 13/100\n",
            "10/10 [==============================] - 0s 29ms/step - loss: 6.2869 - mae: 6.7711 - lr: 3.9811e-08\n",
            "Epoch 14/100\n",
            "10/10 [==============================] - 0s 31ms/step - loss: 5.7015 - mae: 6.1856 - lr: 4.4668e-08\n",
            "Epoch 15/100\n",
            "10/10 [==============================] - 0s 28ms/step - loss: 5.3344 - mae: 5.8166 - lr: 5.0119e-08\n",
            "Epoch 16/100\n",
            "10/10 [==============================] - 0s 30ms/step - loss: 4.9409 - mae: 5.4206 - lr: 5.6234e-08\n",
            "Epoch 17/100\n",
            "10/10 [==============================] - 0s 29ms/step - loss: 4.5578 - mae: 5.0338 - lr: 6.3096e-08\n",
            "Epoch 18/100\n",
            "10/10 [==============================] - 0s 28ms/step - loss: 4.2340 - mae: 4.7085 - lr: 7.0795e-08\n",
            "Epoch 19/100\n",
            "10/10 [==============================] - 0s 28ms/step - loss: 3.9611 - mae: 4.4360 - lr: 7.9433e-08\n",
            "Epoch 20/100\n",
            "10/10 [==============================] - 0s 32ms/step - loss: 3.7448 - mae: 4.2177 - lr: 8.9125e-08\n",
            "Epoch 21/100\n",
            "10/10 [==============================] - 0s 29ms/step - loss: 3.5855 - mae: 4.0566 - lr: 1.0000e-07\n",
            "Epoch 22/100\n",
            "10/10 [==============================] - 0s 32ms/step - loss: 3.4641 - mae: 3.9344 - lr: 1.1220e-07\n",
            "Epoch 23/100\n",
            "10/10 [==============================] - 0s 29ms/step - loss: 3.3711 - mae: 3.8414 - lr: 1.2589e-07\n",
            "Epoch 24/100\n",
            "10/10 [==============================] - 0s 30ms/step - loss: 3.2948 - mae: 3.7645 - lr: 1.4125e-07\n",
            "Epoch 25/100\n",
            "10/10 [==============================] - 0s 29ms/step - loss: 3.2288 - mae: 3.6978 - lr: 1.5849e-07\n",
            "Epoch 26/100\n",
            "10/10 [==============================] - 0s 32ms/step - loss: 3.1662 - mae: 3.6346 - lr: 1.7783e-07\n",
            "Epoch 27/100\n",
            "10/10 [==============================] - 0s 29ms/step - loss: 3.1014 - mae: 3.5693 - lr: 1.9953e-07\n",
            "Epoch 28/100\n",
            "10/10 [==============================] - 0s 30ms/step - loss: 3.0380 - mae: 3.5053 - lr: 2.2387e-07\n",
            "Epoch 29/100\n",
            "10/10 [==============================] - 0s 32ms/step - loss: 2.9716 - mae: 3.4379 - lr: 2.5119e-07\n",
            "Epoch 30/100\n",
            "10/10 [==============================] - 0s 31ms/step - loss: 2.9063 - mae: 3.3712 - lr: 2.8184e-07\n",
            "Epoch 31/100\n",
            "10/10 [==============================] - 0s 32ms/step - loss: 2.8452 - mae: 3.3098 - lr: 3.1623e-07\n",
            "Epoch 32/100\n",
            "10/10 [==============================] - 0s 28ms/step - loss: 2.7842 - mae: 3.2479 - lr: 3.5481e-07\n",
            "Epoch 33/100\n",
            "10/10 [==============================] - 0s 29ms/step - loss: 2.7256 - mae: 3.1891 - lr: 3.9811e-07\n",
            "Epoch 34/100\n",
            "10/10 [==============================] - 0s 30ms/step - loss: 2.6740 - mae: 3.1379 - lr: 4.4668e-07\n",
            "Epoch 35/100\n",
            "10/10 [==============================] - 0s 31ms/step - loss: 2.6212 - mae: 3.0849 - lr: 5.0119e-07\n",
            "Epoch 36/100\n",
            "10/10 [==============================] - 0s 29ms/step - loss: 2.5728 - mae: 3.0357 - lr: 5.6234e-07\n",
            "Epoch 37/100\n",
            "10/10 [==============================] - 0s 30ms/step - loss: 2.5254 - mae: 2.9877 - lr: 6.3096e-07\n",
            "Epoch 38/100\n",
            "10/10 [==============================] - 0s 29ms/step - loss: 2.4800 - mae: 2.9415 - lr: 7.0795e-07\n",
            "Epoch 39/100\n",
            "10/10 [==============================] - 0s 27ms/step - loss: 2.4355 - mae: 2.8968 - lr: 7.9433e-07\n",
            "Epoch 40/100\n",
            "10/10 [==============================] - 0s 29ms/step - loss: 2.3933 - mae: 2.8541 - lr: 8.9125e-07\n",
            "Epoch 41/100\n",
            "10/10 [==============================] - 0s 30ms/step - loss: 2.3523 - mae: 2.8124 - lr: 1.0000e-06\n",
            "Epoch 42/100\n",
            "10/10 [==============================] - 0s 29ms/step - loss: 2.3124 - mae: 2.7718 - lr: 1.1220e-06\n",
            "Epoch 43/100\n",
            "10/10 [==============================] - 0s 29ms/step - loss: 2.2730 - mae: 2.7315 - lr: 1.2589e-06\n",
            "Epoch 44/100\n",
            "10/10 [==============================] - 0s 30ms/step - loss: 2.2338 - mae: 2.6913 - lr: 1.4125e-06\n",
            "Epoch 45/100\n",
            "10/10 [==============================] - 0s 30ms/step - loss: 2.1954 - mae: 2.6523 - lr: 1.5849e-06\n",
            "Epoch 46/100\n",
            "10/10 [==============================] - 0s 29ms/step - loss: 2.1622 - mae: 2.6190 - lr: 1.7783e-06\n",
            "Epoch 47/100\n",
            "10/10 [==============================] - 0s 29ms/step - loss: 2.1313 - mae: 2.5877 - lr: 1.9953e-06\n",
            "Epoch 48/100\n",
            "10/10 [==============================] - 0s 31ms/step - loss: 2.1047 - mae: 2.5607 - lr: 2.2387e-06\n",
            "Epoch 49/100\n",
            "10/10 [==============================] - 0s 29ms/step - loss: 2.0740 - mae: 2.5300 - lr: 2.5119e-06\n",
            "Epoch 50/100\n",
            "10/10 [==============================] - 0s 29ms/step - loss: 2.0481 - mae: 2.5040 - lr: 2.8184e-06\n",
            "Epoch 51/100\n",
            "10/10 [==============================] - 0s 29ms/step - loss: 2.0263 - mae: 2.4818 - lr: 3.1623e-06\n",
            "Epoch 52/100\n",
            "10/10 [==============================] - 0s 29ms/step - loss: 2.0048 - mae: 2.4598 - lr: 3.5481e-06\n",
            "Epoch 53/100\n",
            "10/10 [==============================] - 0s 29ms/step - loss: 1.9897 - mae: 2.4444 - lr: 3.9811e-06\n",
            "Epoch 54/100\n",
            "10/10 [==============================] - 0s 29ms/step - loss: 1.9650 - mae: 2.4193 - lr: 4.4668e-06\n",
            "Epoch 55/100\n",
            "10/10 [==============================] - 0s 28ms/step - loss: 1.9469 - mae: 2.4008 - lr: 5.0119e-06\n",
            "Epoch 56/100\n",
            "10/10 [==============================] - 0s 28ms/step - loss: 1.9247 - mae: 2.3783 - lr: 5.6234e-06\n",
            "Epoch 57/100\n",
            "10/10 [==============================] - 0s 28ms/step - loss: 1.9090 - mae: 2.3620 - lr: 6.3096e-06\n",
            "Epoch 58/100\n",
            "10/10 [==============================] - 0s 30ms/step - loss: 1.8863 - mae: 2.3393 - lr: 7.0795e-06\n",
            "Epoch 59/100\n",
            "10/10 [==============================] - 0s 29ms/step - loss: 1.8593 - mae: 2.3119 - lr: 7.9433e-06\n",
            "Epoch 60/100\n",
            "10/10 [==============================] - 0s 30ms/step - loss: 2.1952 - mae: 2.6551 - lr: 8.9125e-06\n",
            "Epoch 61/100\n",
            "10/10 [==============================] - 0s 30ms/step - loss: 2.6853 - mae: 3.1562 - lr: 1.0000e-05\n",
            "Epoch 62/100\n",
            "10/10 [==============================] - 0s 31ms/step - loss: 3.0854 - mae: 3.5613 - lr: 1.1220e-05\n",
            "Epoch 63/100\n",
            "10/10 [==============================] - 0s 28ms/step - loss: 3.5162 - mae: 3.9954 - lr: 1.2589e-05\n",
            "Epoch 64/100\n",
            "10/10 [==============================] - 0s 30ms/step - loss: 3.6559 - mae: 4.1370 - lr: 1.4125e-05\n",
            "Epoch 65/100\n",
            "10/10 [==============================] - 0s 29ms/step - loss: 4.2078 - mae: 4.6944 - lr: 1.5849e-05\n",
            "Epoch 66/100\n",
            "10/10 [==============================] - 0s 31ms/step - loss: 4.3831 - mae: 4.8695 - lr: 1.7783e-05\n",
            "Epoch 67/100\n",
            "10/10 [==============================] - 0s 30ms/step - loss: 4.6313 - mae: 5.1190 - lr: 1.9953e-05\n",
            "Epoch 68/100\n",
            "10/10 [==============================] - 0s 29ms/step - loss: 4.7034 - mae: 5.1896 - lr: 2.2387e-05\n",
            "Epoch 69/100\n",
            "10/10 [==============================] - 0s 31ms/step - loss: 5.0158 - mae: 5.5038 - lr: 2.5119e-05\n",
            "Epoch 70/100\n",
            "10/10 [==============================] - 0s 30ms/step - loss: 5.2766 - mae: 5.7652 - lr: 2.8184e-05\n",
            "Epoch 71/100\n",
            "10/10 [==============================] - 0s 31ms/step - loss: 5.6084 - mae: 6.1004 - lr: 3.1623e-05\n",
            "Epoch 72/100\n",
            "10/10 [==============================] - 0s 30ms/step - loss: 5.2273 - mae: 5.7107 - lr: 3.5481e-05\n",
            "Epoch 73/100\n",
            "10/10 [==============================] - 0s 29ms/step - loss: 12.4401 - mae: 12.9332 - lr: 3.9811e-05\n",
            "Epoch 74/100\n",
            "10/10 [==============================] - 0s 30ms/step - loss: 7.3042 - mae: 7.7916 - lr: 4.4668e-05\n",
            "Epoch 75/100\n",
            "10/10 [==============================] - 0s 30ms/step - loss: 4.4634 - mae: 4.9438 - lr: 5.0119e-05\n",
            "Epoch 76/100\n",
            "10/10 [==============================] - 0s 32ms/step - loss: 3.5000 - mae: 3.9742 - lr: 5.6234e-05\n",
            "Epoch 77/100\n",
            "10/10 [==============================] - 0s 31ms/step - loss: 3.2480 - mae: 3.7202 - lr: 6.3096e-05\n",
            "Epoch 78/100\n",
            "10/10 [==============================] - 0s 29ms/step - loss: 2.8571 - mae: 3.3259 - lr: 7.0795e-05\n",
            "Epoch 79/100\n",
            "10/10 [==============================] - 0s 30ms/step - loss: 2.7733 - mae: 3.2401 - lr: 7.9433e-05\n",
            "Epoch 80/100\n",
            "10/10 [==============================] - 0s 30ms/step - loss: 2.7930 - mae: 3.2602 - lr: 8.9125e-05\n",
            "Epoch 81/100\n",
            "10/10 [==============================] - 0s 31ms/step - loss: 3.1417 - mae: 3.6123 - lr: 1.0000e-04\n",
            "Epoch 82/100\n",
            "10/10 [==============================] - 0s 31ms/step - loss: 2.7898 - mae: 3.2571 - lr: 1.1220e-04\n",
            "Epoch 83/100\n",
            "10/10 [==============================] - 0s 29ms/step - loss: 3.3629 - mae: 3.8357 - lr: 1.2589e-04\n",
            "Epoch 84/100\n",
            "10/10 [==============================] - 0s 30ms/step - loss: 3.5791 - mae: 4.0541 - lr: 1.4125e-04\n",
            "Epoch 85/100\n",
            "10/10 [==============================] - 0s 28ms/step - loss: 5.2532 - mae: 5.7383 - lr: 1.5849e-04\n",
            "Epoch 86/100\n",
            "10/10 [==============================] - 0s 32ms/step - loss: 6.4238 - mae: 6.9160 - lr: 1.7783e-04\n",
            "Epoch 87/100\n",
            "10/10 [==============================] - 0s 30ms/step - loss: 7.1646 - mae: 7.6566 - lr: 1.9953e-04\n",
            "Epoch 88/100\n",
            "10/10 [==============================] - 0s 31ms/step - loss: 7.8989 - mae: 8.3869 - lr: 2.2387e-04\n",
            "Epoch 89/100\n",
            "10/10 [==============================] - 0s 29ms/step - loss: 20.8111 - mae: 21.3083 - lr: 2.5119e-04\n",
            "Epoch 90/100\n",
            "10/10 [==============================] - 0s 29ms/step - loss: 41.0900 - mae: 41.5869 - lr: 2.8184e-04\n",
            "Epoch 91/100\n",
            "10/10 [==============================] - 0s 31ms/step - loss: 24.9250 - mae: 25.4231 - lr: 3.1623e-04\n",
            "Epoch 92/100\n",
            "10/10 [==============================] - 0s 28ms/step - loss: 28.0892 - mae: 28.5871 - lr: 3.5481e-04\n",
            "Epoch 93/100\n",
            "10/10 [==============================] - 0s 29ms/step - loss: 33.3348 - mae: 33.8309 - lr: 3.9811e-04\n",
            "Epoch 94/100\n",
            "10/10 [==============================] - 0s 31ms/step - loss: 37.7163 - mae: 38.2161 - lr: 4.4668e-04\n",
            "Epoch 95/100\n",
            "10/10 [==============================] - 0s 29ms/step - loss: 69.9341 - mae: 70.4300 - lr: 5.0119e-04\n",
            "Epoch 96/100\n",
            "10/10 [==============================] - 0s 32ms/step - loss: 49.5238 - mae: 50.0238 - lr: 5.6234e-04\n",
            "Epoch 97/100\n",
            "10/10 [==============================] - 0s 28ms/step - loss: 53.6893 - mae: 54.1893 - lr: 6.3096e-04\n",
            "Epoch 98/100\n",
            "10/10 [==============================] - 0s 30ms/step - loss: 59.4754 - mae: 59.9754 - lr: 7.0795e-04\n",
            "Epoch 99/100\n",
            "10/10 [==============================] - 0s 28ms/step - loss: 68.5989 - mae: 69.0989 - lr: 7.9433e-04\n",
            "Epoch 100/100\n",
            "10/10 [==============================] - 0s 29ms/step - loss: 74.9024 - mae: 75.4024 - lr: 8.9125e-04\n"
          ]
        }
      ]
    },
    {
      "cell_type": "code",
      "metadata": {
        "id": "vVcKmg7Q_7rD",
        "outputId": "ebf15e95-bc51-43ea-bbf3-b868c369402d",
        "colab": {
          "base_uri": "https://localhost:8080/",
          "height": 290
        }
      },
      "source": [
        "plt.semilogx(history.history[\"lr\"], history.history[\"loss\"])\n",
        "plt.axis([1e-8, 1e-4, 0, 60])"
      ],
      "execution_count": 14,
      "outputs": [
        {
          "output_type": "execute_result",
          "data": {
            "text/plain": [
              "(1e-08, 0.0001, 0.0, 60.0)"
            ]
          },
          "metadata": {},
          "execution_count": 14
        },
        {
          "output_type": "display_data",
          "data": {
            "image/png": "[encoded data removed]",
            "text/plain": [
              "<Figure size 432x288 with 1 Axes>"
            ]
          },
          "metadata": {
            "needs_background": "light"
          }
        }
      ]
    },
    {
      "cell_type": "code",
      "metadata": {
        "id": "QsksvkcXAAgq",
        "outputId": "188dd0db-fba1-4a88-9ade-f444520ba267",
        "colab": {
          "base_uri": "https://localhost:8080/"
        }
      },
      "source": [
        "tf.keras.backend.clear_session()\n",
        "tf.random.set_seed(51)\n",
        "np.random.seed(51)\n",
        "train_set = windowed_dataset(x_train, window_size=60, batch_size=100, shuffle_buffer=shuffle_buffer_size)\n",
        "model = tf.keras.models.Sequential([\n",
        "  tf.keras.layers.Conv1D(filters = 60, kernel_size = 5, strides = 1,\n",
        "                         padding=\"causal\", activation=\"relu\", \n",
        "                         input_shape=[None,1]),\n",
        "  tf.keras.layers.LSTM(60, return_sequences=True),\n",
        "  tf.keras.layers.LSTM(60, return_sequences=True),\n",
        "  tf.keras.layers.Dense(30, activation=\"relu\"),\n",
        "  tf.keras.layers.Dense(10, activation = \"relu\"),\n",
        "  tf.keras.layers.Dense(1),\n",
        "  tf.keras.layers.Lambda(lambda x: x*400)\n",
        "])\n",
        "\n",
        "\n",
        "optimizer = tf.keras.optimizers.SGD(learning_rate=1e-5, momentum=0.9)\n",
        "model.compile(loss=tf.keras.losses.Huber(),\n",
        "              optimizer=optimizer,\n",
        "              metrics=[\"mae\"])\n",
        "history = model.fit(train_set, epochs=150)\n",
        "                                    \n",
        "# EXPECTED OUTPUT SHOULD SEE AN MAE OF <2 WITHIN ABOUT 30 EPOCHS"
      ],
      "execution_count": 19,
      "outputs": [
        {
          "output_type": "stream",
          "name": "stdout",
          "text": [
            "Epoch 1/150\n",
            "25/25 [==============================] - 4s 23ms/step - loss: 9.9814 - mae: 10.4694\n",
            "Epoch 2/150\n",
            "25/25 [==============================] - 1s 18ms/step - loss: 2.5295 - mae: 2.9923\n",
            "Epoch 3/150\n",
            "25/25 [==============================] - 1s 17ms/step - loss: 1.9503 - mae: 2.4047\n",
            "Epoch 4/150\n",
            "25/25 [==============================] - 1s 18ms/step - loss: 1.8619 - mae: 2.3151\n",
            "Epoch 5/150\n",
            "25/25 [==============================] - 1s 18ms/step - loss: 1.8214 - mae: 2.2733\n",
            "Epoch 6/150\n",
            "25/25 [==============================] - 1s 18ms/step - loss: 1.7908 - mae: 2.2418\n",
            "Epoch 7/150\n",
            "25/25 [==============================] - 1s 18ms/step - loss: 1.7686 - mae: 2.2186\n",
            "Epoch 8/150\n",
            "25/25 [==============================] - 1s 17ms/step - loss: 1.7413 - mae: 2.1906\n",
            "Epoch 9/150\n",
            "25/25 [==============================] - 1s 17ms/step - loss: 1.7193 - mae: 2.1681\n",
            "Epoch 10/150\n",
            "25/25 [==============================] - 1s 18ms/step - loss: 1.7000 - mae: 2.1482\n",
            "Epoch 11/150\n",
            "25/25 [==============================] - 1s 18ms/step - loss: 1.6810 - mae: 2.1287\n",
            "Epoch 12/150\n",
            "25/25 [==============================] - 1s 18ms/step - loss: 1.6688 - mae: 2.1159\n",
            "Epoch 13/150\n",
            "25/25 [==============================] - 1s 17ms/step - loss: 1.6566 - mae: 2.1030\n",
            "Epoch 14/150\n",
            "25/25 [==============================] - 1s 16ms/step - loss: 1.6434 - mae: 2.0891\n",
            "Epoch 15/150\n",
            "25/25 [==============================] - 1s 17ms/step - loss: 1.6354 - mae: 2.0803\n",
            "Epoch 16/150\n",
            "25/25 [==============================] - 1s 17ms/step - loss: 1.6263 - mae: 2.0710\n",
            "Epoch 17/150\n",
            "25/25 [==============================] - 1s 17ms/step - loss: 1.6140 - mae: 2.0581\n",
            "Epoch 18/150\n",
            "25/25 [==============================] - 1s 16ms/step - loss: 1.6115 - mae: 2.0553\n",
            "Epoch 19/150\n",
            "25/25 [==============================] - 1s 17ms/step - loss: 1.6011 - mae: 2.0444\n",
            "Epoch 20/150\n",
            "25/25 [==============================] - 1s 18ms/step - loss: 1.5933 - mae: 2.0365\n",
            "Epoch 21/150\n",
            "25/25 [==============================] - 1s 19ms/step - loss: 1.5917 - mae: 2.0348\n",
            "Epoch 22/150\n",
            "25/25 [==============================] - 1s 17ms/step - loss: 1.5849 - mae: 2.0275\n",
            "Epoch 23/150\n",
            "25/25 [==============================] - 1s 17ms/step - loss: 1.5806 - mae: 2.0232\n",
            "Epoch 24/150\n",
            "25/25 [==============================] - 1s 18ms/step - loss: 1.5796 - mae: 2.0222\n",
            "Epoch 25/150\n",
            "25/25 [==============================] - 1s 17ms/step - loss: 1.5701 - mae: 2.0120\n",
            "Epoch 26/150\n",
            "25/25 [==============================] - 1s 18ms/step - loss: 1.5665 - mae: 2.0085\n",
            "Epoch 27/150\n",
            "25/25 [==============================] - 1s 19ms/step - loss: 1.5639 - mae: 2.0057\n",
            "Epoch 28/150\n",
            "25/25 [==============================] - 1s 19ms/step - loss: 1.5596 - mae: 2.0014\n",
            "Epoch 29/150\n",
            "25/25 [==============================] - 1s 19ms/step - loss: 1.5573 - mae: 1.9991\n",
            "Epoch 30/150\n",
            "25/25 [==============================] - 1s 18ms/step - loss: 1.5552 - mae: 1.9972\n",
            "Epoch 31/150\n",
            "25/25 [==============================] - 1s 18ms/step - loss: 1.5546 - mae: 1.9967\n",
            "Epoch 32/150\n",
            "25/25 [==============================] - 1s 18ms/step - loss: 1.5520 - mae: 1.9937\n",
            "Epoch 33/150\n",
            "25/25 [==============================] - 1s 17ms/step - loss: 1.5480 - mae: 1.9897\n",
            "Epoch 34/150\n",
            "25/25 [==============================] - 1s 18ms/step - loss: 1.5520 - mae: 1.9939\n",
            "Epoch 35/150\n",
            "25/25 [==============================] - 1s 18ms/step - loss: 1.5489 - mae: 1.9909\n",
            "Epoch 36/150\n",
            "25/25 [==============================] - 1s 18ms/step - loss: 1.5430 - mae: 1.9846\n",
            "Epoch 37/150\n",
            "25/25 [==============================] - 1s 18ms/step - loss: 1.5421 - mae: 1.9836\n",
            "Epoch 38/150\n",
            "25/25 [==============================] - 1s 19ms/step - loss: 1.5402 - mae: 1.9816\n",
            "Epoch 39/150\n",
            "25/25 [==============================] - 1s 19ms/step - loss: 1.5404 - mae: 1.9822\n",
            "Epoch 40/150\n",
            "25/25 [==============================] - 1s 18ms/step - loss: 1.5411 - mae: 1.9829\n",
            "Epoch 41/150\n",
            "25/25 [==============================] - 1s 18ms/step - loss: 1.5354 - mae: 1.9768\n",
            "Epoch 42/150\n",
            "25/25 [==============================] - 1s 17ms/step - loss: 1.5354 - mae: 1.9770\n",
            "Epoch 43/150\n",
            "25/25 [==============================] - 1s 18ms/step - loss: 1.5351 - mae: 1.9768\n",
            "Epoch 44/150\n",
            "25/25 [==============================] - 1s 19ms/step - loss: 1.5360 - mae: 1.9780\n",
            "Epoch 45/150\n",
            "25/25 [==============================] - 1s 18ms/step - loss: 1.5308 - mae: 1.9723\n",
            "Epoch 46/150\n",
            "25/25 [==============================] - 1s 18ms/step - loss: 1.5330 - mae: 1.9748\n",
            "Epoch 47/150\n",
            "25/25 [==============================] - 1s 18ms/step - loss: 1.5285 - mae: 1.9699\n",
            "Epoch 48/150\n",
            "25/25 [==============================] - 1s 17ms/step - loss: 1.5313 - mae: 1.9730\n",
            "Epoch 49/150\n",
            "25/25 [==============================] - 1s 18ms/step - loss: 1.5306 - mae: 1.9724\n",
            "Epoch 50/150\n",
            "25/25 [==============================] - 1s 19ms/step - loss: 1.5262 - mae: 1.9678\n",
            "Epoch 51/150\n",
            "25/25 [==============================] - 1s 29ms/step - loss: 1.5291 - mae: 1.9708\n",
            "Epoch 52/150\n",
            "25/25 [==============================] - 1s 18ms/step - loss: 1.5274 - mae: 1.9692\n",
            "Epoch 53/150\n",
            "25/25 [==============================] - 1s 18ms/step - loss: 1.5288 - mae: 1.9708\n",
            "Epoch 54/150\n",
            "25/25 [==============================] - 1s 18ms/step - loss: 1.5239 - mae: 1.9656\n",
            "Epoch 55/150\n",
            "25/25 [==============================] - 1s 17ms/step - loss: 1.5236 - mae: 1.9654\n",
            "Epoch 56/150\n",
            "25/25 [==============================] - 1s 18ms/step - loss: 1.5214 - mae: 1.9629\n",
            "Epoch 57/150\n",
            "25/25 [==============================] - 1s 17ms/step - loss: 1.5219 - mae: 1.9634\n",
            "Epoch 58/150\n",
            "25/25 [==============================] - 1s 17ms/step - loss: 1.5347 - mae: 1.9776\n",
            "Epoch 59/150\n",
            "25/25 [==============================] - 1s 18ms/step - loss: 1.5251 - mae: 1.9669\n",
            "Epoch 60/150\n",
            "25/25 [==============================] - 1s 17ms/step - loss: 1.5221 - mae: 1.9638\n",
            "Epoch 61/150\n",
            "25/25 [==============================] - 1s 18ms/step - loss: 1.5185 - mae: 1.9600\n",
            "Epoch 62/150\n",
            "25/25 [==============================] - 1s 17ms/step - loss: 1.5197 - mae: 1.9612\n",
            "Epoch 63/150\n",
            "25/25 [==============================] - 1s 19ms/step - loss: 1.5169 - mae: 1.9584\n",
            "Epoch 64/150\n",
            "25/25 [==============================] - 1s 18ms/step - loss: 1.5173 - mae: 1.9589\n",
            "Epoch 65/150\n",
            "25/25 [==============================] - 1s 18ms/step - loss: 1.5167 - mae: 1.9581\n",
            "Epoch 66/150\n",
            "25/25 [==============================] - 1s 18ms/step - loss: 1.5169 - mae: 1.9585\n",
            "Epoch 67/150\n",
            "25/25 [==============================] - 1s 18ms/step - loss: 1.5218 - mae: 1.9635\n",
            "Epoch 68/150\n",
            "25/25 [==============================] - 1s 17ms/step - loss: 1.5163 - mae: 1.9579\n",
            "Epoch 69/150\n",
            "25/25 [==============================] - 1s 17ms/step - loss: 1.5146 - mae: 1.9561\n",
            "Epoch 70/150\n",
            "25/25 [==============================] - 1s 17ms/step - loss: 1.5145 - mae: 1.9559\n",
            "Epoch 71/150\n",
            "25/25 [==============================] - 1s 18ms/step - loss: 1.5129 - mae: 1.9542\n",
            "Epoch 72/150\n",
            "25/25 [==============================] - 1s 18ms/step - loss: 1.5123 - mae: 1.9537\n",
            "Epoch 73/150\n",
            "25/25 [==============================] - 1s 18ms/step - loss: 1.5152 - mae: 1.9569\n",
            "Epoch 74/150\n",
            "25/25 [==============================] - 1s 18ms/step - loss: 1.5112 - mae: 1.9527\n",
            "Epoch 75/150\n",
            "25/25 [==============================] - 1s 18ms/step - loss: 1.5127 - mae: 1.9542\n",
            "Epoch 76/150\n",
            "25/25 [==============================] - 1s 19ms/step - loss: 1.5114 - mae: 1.9527\n",
            "Epoch 77/150\n",
            "25/25 [==============================] - 1s 18ms/step - loss: 1.5104 - mae: 1.9520\n",
            "Epoch 78/150\n",
            "25/25 [==============================] - 1s 17ms/step - loss: 1.5143 - mae: 1.9559\n",
            "Epoch 79/150\n",
            "25/25 [==============================] - 1s 19ms/step - loss: 1.5090 - mae: 1.9505\n",
            "Epoch 80/150\n",
            "25/25 [==============================] - 1s 17ms/step - loss: 1.5104 - mae: 1.9520\n",
            "Epoch 81/150\n",
            "25/25 [==============================] - 1s 17ms/step - loss: 1.5148 - mae: 1.9565\n",
            "Epoch 82/150\n",
            "25/25 [==============================] - 1s 17ms/step - loss: 1.5074 - mae: 1.9490\n",
            "Epoch 83/150\n",
            "25/25 [==============================] - 1s 18ms/step - loss: 1.5080 - mae: 1.9494\n",
            "Epoch 84/150\n",
            "25/25 [==============================] - 1s 19ms/step - loss: 1.5084 - mae: 1.9501\n",
            "Epoch 85/150\n",
            "25/25 [==============================] - 1s 18ms/step - loss: 1.5069 - mae: 1.9484\n",
            "Epoch 86/150\n",
            "25/25 [==============================] - 1s 18ms/step - loss: 1.5061 - mae: 1.9475\n",
            "Epoch 87/150\n",
            "25/25 [==============================] - 1s 18ms/step - loss: 1.5075 - mae: 1.9489\n",
            "Epoch 88/150\n",
            "25/25 [==============================] - 1s 19ms/step - loss: 1.5053 - mae: 1.9467\n",
            "Epoch 89/150\n",
            "25/25 [==============================] - 1s 17ms/step - loss: 1.5050 - mae: 1.9463\n",
            "Epoch 90/150\n",
            "25/25 [==============================] - 1s 17ms/step - loss: 1.5064 - mae: 1.9479\n",
            "Epoch 91/150\n",
            "25/25 [==============================] - 1s 18ms/step - loss: 1.5055 - mae: 1.9468\n",
            "Epoch 92/150\n",
            "25/25 [==============================] - 1s 17ms/step - loss: 1.5045 - mae: 1.9459\n",
            "Epoch 93/150\n",
            "25/25 [==============================] - 1s 17ms/step - loss: 1.5032 - mae: 1.9445\n",
            "Epoch 94/150\n",
            "25/25 [==============================] - 1s 17ms/step - loss: 1.5023 - mae: 1.9437\n",
            "Epoch 95/150\n",
            "25/25 [==============================] - 1s 17ms/step - loss: 1.5110 - mae: 1.9529\n",
            "Epoch 96/150\n",
            "25/25 [==============================] - 1s 17ms/step - loss: 1.5034 - mae: 1.9449\n",
            "Epoch 97/150\n",
            "25/25 [==============================] - 1s 18ms/step - loss: 1.5052 - mae: 1.9469\n",
            "Epoch 98/150\n",
            "25/25 [==============================] - 1s 17ms/step - loss: 1.5057 - mae: 1.9469\n",
            "Epoch 99/150\n",
            "25/25 [==============================] - 1s 18ms/step - loss: 1.5012 - mae: 1.9426\n",
            "Epoch 100/150\n",
            "25/25 [==============================] - 1s 17ms/step - loss: 1.5012 - mae: 1.9425\n",
            "Epoch 101/150\n",
            "25/25 [==============================] - 1s 18ms/step - loss: 1.5013 - mae: 1.9427\n",
            "Epoch 102/150\n",
            "25/25 [==============================] - 1s 18ms/step - loss: 1.4997 - mae: 1.9410\n",
            "Epoch 103/150\n",
            "25/25 [==============================] - 1s 17ms/step - loss: 1.5000 - mae: 1.9412\n",
            "Epoch 104/150\n",
            "25/25 [==============================] - 1s 17ms/step - loss: 1.5005 - mae: 1.9418\n",
            "Epoch 105/150\n",
            "25/25 [==============================] - 1s 18ms/step - loss: 1.4998 - mae: 1.9410\n",
            "Epoch 106/150\n",
            "25/25 [==============================] - 1s 17ms/step - loss: 1.4998 - mae: 1.9411\n",
            "Epoch 107/150\n",
            "25/25 [==============================] - 1s 17ms/step - loss: 1.5015 - mae: 1.9430\n",
            "Epoch 108/150\n",
            "25/25 [==============================] - 1s 18ms/step - loss: 1.5003 - mae: 1.9414\n",
            "Epoch 109/150\n",
            "25/25 [==============================] - 1s 17ms/step - loss: 1.5000 - mae: 1.9413\n",
            "Epoch 110/150\n",
            "25/25 [==============================] - 1s 18ms/step - loss: 1.5015 - mae: 1.9427\n",
            "Epoch 111/150\n",
            "25/25 [==============================] - 1s 18ms/step - loss: 1.4987 - mae: 1.9401\n",
            "Epoch 112/150\n",
            "25/25 [==============================] - 1s 18ms/step - loss: 1.4976 - mae: 1.9388\n",
            "Epoch 113/150\n",
            "25/25 [==============================] - 1s 18ms/step - loss: 1.4965 - mae: 1.9378\n",
            "Epoch 114/150\n",
            "25/25 [==============================] - 1s 18ms/step - loss: 1.4968 - mae: 1.9380\n",
            "Epoch 115/150\n",
            "25/25 [==============================] - 1s 18ms/step - loss: 1.4966 - mae: 1.9377\n",
            "Epoch 116/150\n",
            "25/25 [==============================] - 1s 18ms/step - loss: 1.4979 - mae: 1.9391\n",
            "Epoch 117/150\n",
            "25/25 [==============================] - 1s 17ms/step - loss: 1.4965 - mae: 1.9377\n",
            "Epoch 118/150\n",
            "25/25 [==============================] - 1s 18ms/step - loss: 1.4972 - mae: 1.9383\n",
            "Epoch 119/150\n",
            "25/25 [==============================] - 1s 19ms/step - loss: 1.4959 - mae: 1.9370\n",
            "Epoch 120/150\n",
            "25/25 [==============================] - 1s 18ms/step - loss: 1.4970 - mae: 1.9381\n",
            "Epoch 121/150\n",
            "25/25 [==============================] - 1s 18ms/step - loss: 1.5010 - mae: 1.9426\n",
            "Epoch 122/150\n",
            "25/25 [==============================] - 1s 18ms/step - loss: 1.4966 - mae: 1.9375\n",
            "Epoch 123/150\n",
            "25/25 [==============================] - 1s 19ms/step - loss: 1.5012 - mae: 1.9424\n",
            "Epoch 124/150\n",
            "25/25 [==============================] - 1s 19ms/step - loss: 1.4958 - mae: 1.9370\n",
            "Epoch 125/150\n",
            "25/25 [==============================] - 1s 18ms/step - loss: 1.4954 - mae: 1.9366\n",
            "Epoch 126/150\n",
            "25/25 [==============================] - 1s 19ms/step - loss: 1.4951 - mae: 1.9359\n",
            "Epoch 127/150\n",
            "25/25 [==============================] - 1s 17ms/step - loss: 1.4944 - mae: 1.9353\n",
            "Epoch 128/150\n",
            "25/25 [==============================] - 1s 18ms/step - loss: 1.4941 - mae: 1.9349\n",
            "Epoch 129/150\n",
            "25/25 [==============================] - 1s 17ms/step - loss: 1.4927 - mae: 1.9336\n",
            "Epoch 130/150\n",
            "25/25 [==============================] - 1s 18ms/step - loss: 1.4961 - mae: 1.9373\n",
            "Epoch 131/150\n",
            "25/25 [==============================] - 1s 19ms/step - loss: 1.4925 - mae: 1.9335\n",
            "Epoch 132/150\n",
            "25/25 [==============================] - 1s 18ms/step - loss: 1.5003 - mae: 1.9414\n",
            "Epoch 133/150\n",
            "25/25 [==============================] - 1s 19ms/step - loss: 1.4970 - mae: 1.9379\n",
            "Epoch 134/150\n",
            "25/25 [==============================] - 1s 18ms/step - loss: 1.4968 - mae: 1.9382\n",
            "Epoch 135/150\n",
            "25/25 [==============================] - 1s 17ms/step - loss: 1.4916 - mae: 1.9322\n",
            "Epoch 136/150\n",
            "25/25 [==============================] - 1s 18ms/step - loss: 1.4927 - mae: 1.9333\n",
            "Epoch 137/150\n",
            "25/25 [==============================] - 1s 18ms/step - loss: 1.4956 - mae: 1.9363\n",
            "Epoch 138/150\n",
            "25/25 [==============================] - 1s 18ms/step - loss: 1.4922 - mae: 1.9329\n",
            "Epoch 139/150\n",
            "25/25 [==============================] - 1s 19ms/step - loss: 1.4915 - mae: 1.9321\n",
            "Epoch 140/150\n",
            "25/25 [==============================] - 1s 18ms/step - loss: 1.4917 - mae: 1.9325\n",
            "Epoch 141/150\n",
            "25/25 [==============================] - 1s 19ms/step - loss: 1.4904 - mae: 1.9311\n",
            "Epoch 142/150\n",
            "25/25 [==============================] - 1s 18ms/step - loss: 1.4896 - mae: 1.9304\n",
            "Epoch 143/150\n",
            "25/25 [==============================] - 1s 17ms/step - loss: 1.4924 - mae: 1.9333\n",
            "Epoch 144/150\n",
            "25/25 [==============================] - 1s 18ms/step - loss: 1.4920 - mae: 1.9326\n",
            "Epoch 145/150\n",
            "25/25 [==============================] - 1s 18ms/step - loss: 1.4893 - mae: 1.9299\n",
            "Epoch 146/150\n",
            "25/25 [==============================] - 1s 17ms/step - loss: 1.4956 - mae: 1.9364\n",
            "Epoch 147/150\n",
            "25/25 [==============================] - 1s 20ms/step - loss: 1.4900 - mae: 1.9306\n",
            "Epoch 148/150\n",
            "25/25 [==============================] - 1s 18ms/step - loss: 1.4892 - mae: 1.9300\n",
            "Epoch 149/150\n",
            "25/25 [==============================] - 1s 18ms/step - loss: 1.4899 - mae: 1.9307\n",
            "Epoch 150/150\n",
            "25/25 [==============================] - 1s 18ms/step - loss: 1.4889 - mae: 1.9292\n"
          ]
        }
      ]
    },
    {
      "cell_type": "code",
      "metadata": {
        "id": "GaC6NNMRp0lb"
      },
      "source": [
        "rnn_forecast = model_forecast(model, series[..., np.newaxis], window_size)\n",
        "rnn_forecast = rnn_forecast[split_time - window_size:-1, -1, 0]"
      ],
      "execution_count": 20,
      "outputs": []
    },
    {
      "cell_type": "code",
      "metadata": {
        "id": "izy6wl2S9d-2",
        "outputId": "b77ab1c4-3de8-45e9-cc5b-326390891bff",
        "colab": {
          "base_uri": "https://localhost:8080/",
          "height": 389
        }
      },
      "source": [
        "plt.figure(figsize=(10, 6))\n",
        "plot_series(time_valid, x_valid)\n",
        "plot_series(time_valid, rnn_forecast)\n",
        "\n",
        "# EXPECTED OUTPUT. PLOT SHOULD SHOW PROJECTIONS FOLLOWING ORIGINAL DATA CLOSELY"
      ],
      "execution_count": 21,
      "outputs": [
        {
          "output_type": "display_data",
          "data": {
            "image/png": "[encoded data removed]",
            "text/plain": [
              "<Figure size 720x432 with 1 Axes>"
            ]
          },
          "metadata": {
            "needs_background": "light"
          }
        }
      ]
    },
    {
      "cell_type": "code",
      "metadata": {
        "id": "13XrorC5wQoE",
        "outputId": "0318739b-7c7d-4165-a9e9-ebdd911654e0",
        "colab": {
          "base_uri": "https://localhost:8080/"
        }
      },
      "source": [
        "tf.keras.metrics.mean_absolute_error(x_valid, rnn_forecast).numpy()\n",
        "\n",
        "# EXPECTED OUTPUT MAE < 2 -- I GOT 1.789626"
      ],
      "execution_count": 22,
      "outputs": [
        {
          "output_type": "execute_result",
          "data": {
            "text/plain": [
              "1.779634"
            ]
          },
          "metadata": {},
          "execution_count": 22
        }
      ]
    },
    {
      "cell_type": "code",
      "metadata": {
        "id": "AOVzQXxCwkzP",
        "outputId": "cc7f2dd2-70b2-45b6-f91d-4b57a534ea4c",
        "colab": {
          "base_uri": "https://localhost:8080/"
        }
      },
      "source": [
        "print(rnn_forecast)\n",
        "# EXPECTED OUTPUT -- ARRAY OF VALUES IN THE LOW TEENS"
      ],
      "execution_count": 23,
      "outputs": [
        {
          "output_type": "stream",
          "name": "stdout",
          "text": [
            "[11.3292675 10.705354  12.124676  ... 13.604191  13.796562  15.009081 ]\n"
          ]
        }
      ]
    }
  ]
}