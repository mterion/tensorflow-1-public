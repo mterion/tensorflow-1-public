{
  "nbformat": 4,
  "nbformat_minor": 0,
  "metadata": {
    "accelerator": "GPU",
    "colab": {
      "name": "C3_W4_Assignment.ipynb",
      "provenance": [],
      "include_colab_link": true
    },
    "kernelspec": {
      "display_name": "Python 3",
      "language": "python",
      "name": "python3"
    },
    "language_info": {
      "codemirror_mode": {
        "name": "ipython",
        "version": 3
      },
      "file_extension": ".py",
      "mimetype": "text/x-python",
      "name": "python",
      "nbconvert_exporter": "python",
      "pygments_lexer": "ipython3",
      "version": "3.8.5"
    }
  },
  "cells": [
    {
      "cell_type": "markdown",
      "metadata": {
        "id": "view-in-github",
        "colab_type": "text"
      },
      "source": [
        "<a href=\"https://colab.research.google.com/github/mterion/tensorflow-1-public/blob/main/C3/W4/assignment/C3_W4_Assignment.ipynb\" target=\"_parent\"><img src=\"https://colab.research.google.com/assets/colab-badge.svg\" alt=\"Open In Colab\"/></a>"
      ]
    },
    {
      "cell_type": "code",
      "metadata": {
        "id": "T2XpcPvbXalN"
      },
      "source": [
        "#@title Licensed under the Apache License, Version 2.0 (the \"License\");\n",
        "# you may not use this file except in compliance with the License.\n",
        "# You may obtain a copy of the License at\n",
        "#\n",
        "# https://www.apache.org/licenses/LICENSE-2.0\n",
        "#\n",
        "# Unless required by applicable law or agreed to in writing, software\n",
        "# distributed under the License is distributed on an \"AS IS\" BASIS,\n",
        "# WITHOUT WARRANTIES OR CONDITIONS OF ANY KIND, either express or implied.\n",
        "# See the License for the specific language governing permissions and\n",
        "# limitations under the License."
      ],
      "execution_count": 1,
      "outputs": []
    },
    {
      "cell_type": "markdown",
      "metadata": {
        "id": "eK88h3Y5XalO"
      },
      "source": [
        "**Note:** This notebook can run using TensorFlow 2.5.0"
      ]
    },
    {
      "cell_type": "code",
      "metadata": {
        "id": "zX4Kg8DUTKWO"
      },
      "source": [
        "#!pip install tensorflow==2.5.0"
      ],
      "execution_count": 2,
      "outputs": []
    },
    {
      "cell_type": "code",
      "metadata": {
        "id": "BOwsuGQQY9OL"
      },
      "source": [
        "from tensorflow.keras.preprocessing.sequence import pad_sequences\n",
        "from tensorflow.keras.layers import Embedding, LSTM, Dense, Dropout, Bidirectional\n",
        "from tensorflow.keras.preprocessing.text import Tokenizer\n",
        "from tensorflow.keras.models import Sequential\n",
        "from tensorflow.keras.optimizers import Adam\n",
        "from tensorflow.keras import regularizers\n",
        "import tensorflow.keras.utils as ku \n",
        "import numpy as np "
      ],
      "execution_count": 13,
      "outputs": []
    },
    {
      "cell_type": "code",
      "metadata": {
        "id": "PRnDnCW-Z7qv",
        "outputId": "e44a8f40-6f1b-42ea-a345-4bdbb7177318",
        "colab": {
          "base_uri": "https://localhost:8080/"
        }
      },
      "source": [
        "tokenizer = Tokenizer()\n",
        "\n",
        "# sonnets.txt\n",
        "!gdown --id 108jAePKK4R3BVYBbYJZ32JWUwxeMg20K\n",
        "\n",
        "data = open('./sonnets.txt').read()\n",
        "\n",
        "corpus = data.lower().split(\"\\n\")\n",
        "\n",
        "\n",
        "tokenizer.fit_on_texts(corpus)\n",
        "total_words = len(tokenizer.word_index) + 1          # + 1 bec <OOV>\n",
        "\n",
        "# create input sequences using list of tokens\n",
        "input_sequences = []\n",
        "for line in corpus:\n",
        "\ttoken_list = tokenizer.texts_to_sequences([line])[0]   # Convert a line of text into a list of tokens\n",
        "\tfor i in range(1, len(token_list)):\n",
        "\t\tn_gram_sequence = token_list[:i+1]\n",
        "\t\tinput_sequences.append(n_gram_sequence)\n",
        "\n",
        "\n",
        "# pad sequences \n",
        "max_sequence_len = max([len(x) for x in input_sequences])\n",
        "input_sequences = np.array(pad_sequences(input_sequences, maxlen=max_sequence_len, padding='pre'))\n",
        "\n",
        "# create predictors and label\n",
        "predictors, label = input_sequences[:,:-1],input_sequences[:,-1]    # Input sequence is now an array\n",
        "\n",
        "label = ku.to_categorical(label, num_classes=total_words)"
      ],
      "execution_count": 4,
      "outputs": [
        {
          "output_type": "stream",
          "name": "stdout",
          "text": [
            "Downloading...\n",
            "From: https://drive.google.com/uc?id=108jAePKK4R3BVYBbYJZ32JWUwxeMg20K\n",
            "To: /content/sonnets.txt\n",
            "\r  0% 0.00/93.6k [00:00<?, ?B/s]\r100% 93.6k/93.6k [00:00<00:00, 94.8MB/s]\n"
          ]
        }
      ]
    },
    {
      "cell_type": "code",
      "source": [
        "print(\"input_sequences[:,1]\", input_sequences[1,:])\n",
        "print(\"total_words\", total_words)\n",
        "print(\"max_sequence_len\", max_sequence_len)"
      ],
      "metadata": {
        "id": "FZJW5J8D7tDA",
        "outputId": "8a432e24-2e95-42aa-8fc6-c093a8351d08",
        "colab": {
          "base_uri": "https://localhost:8080/"
        }
      },
      "execution_count": 19,
      "outputs": [
        {
          "output_type": "stream",
          "name": "stdout",
          "text": [
            "input_sequences[:,1] [  0   0   0   0   0   0   0   0  34 417 877]\n"
          ]
        },
        {
          "output_type": "execute_result",
          "data": {
            "text/plain": [
              "3211"
            ]
          },
          "metadata": {},
          "execution_count": 19
        }
      ]
    },
    {
      "cell_type": "code",
      "metadata": {
        "id": "w9vH8Y59ajYL",
        "outputId": "e7dc8f15-dd95-447f-f7a1-e5d4eaa0f8fb",
        "colab": {
          "base_uri": "https://localhost:8080/"
        }
      },
      "source": [
        "# Kernel regularizer keeps the weights under control, by applying a penalty on the layer’s kernel (weights), not bias. \n",
        "  ## You mainly use it when your network shows an unstable training.\n",
        "# Bidirectional LSTM is something to try when you have the whole sentence at your disposal since the beginning.\n",
        "\n",
        "### START CODE HERE\n",
        "model = Sequential()\n",
        "model.add(Embedding(total_words, 100, input_length=max_sequence_len - 1)) # -1 bec we cropped out the last word for labels\n",
        "model.add(Bidirectional(LSTM(150, return_sequences=True)))\n",
        "model.add(Dropout(0.2))\n",
        "model.add(LSTM(100))\n",
        "model.add(Dense(total_words/2, activation='relu', kernel_regularizer=regularizers.l2(0.01)))\n",
        "model.add(Dense(total_words, activation='softmax'))\n",
        "# Pick an optimizer\n",
        "model.compile(loss = 'categorical_crossentropy', optimizer = 'adam', metrics=['accuracy'])\n",
        "### END CODE HERE\n",
        "    \n",
        "print(model.summary())"
      ],
      "execution_count": 15,
      "outputs": [
        {
          "output_type": "stream",
          "name": "stdout",
          "text": [
            "Model: \"sequential_2\"\n",
            "_________________________________________________________________\n",
            " Layer (type)                Output Shape              Param #   \n",
            "=================================================================\n",
            " embedding_2 (Embedding)     (None, 10, 100)           321100    \n",
            "                                                                 \n",
            " bidirectional_2 (Bidirectio  (None, 10, 300)          301200    \n",
            " nal)                                                            \n",
            "                                                                 \n",
            " dropout_2 (Dropout)         (None, 10, 300)           0         \n",
            "                                                                 \n",
            " lstm_5 (LSTM)               (None, 100)               160400    \n",
            "                                                                 \n",
            " dense_2 (Dense)             (None, 1605)              162105    \n",
            "                                                                 \n",
            " dense_3 (Dense)             (None, 3211)              5156866   \n",
            "                                                                 \n",
            "=================================================================\n",
            "Total params: 6,101,671\n",
            "Trainable params: 6,101,671\n",
            "Non-trainable params: 0\n",
            "_________________________________________________________________\n",
            "None\n"
          ]
        }
      ]
    },
    {
      "cell_type": "code",
      "metadata": {
        "id": "AIg2f1HBxqof",
        "outputId": "3d8cd687-756d-4156-f89d-777f0bf0550b",
        "colab": {
          "base_uri": "https://localhost:8080/"
        }
      },
      "source": [
        " history = model.fit(predictors, label, epochs=100, verbose=1)"
      ],
      "execution_count": 20,
      "outputs": [
        {
          "output_type": "stream",
          "name": "stdout",
          "text": [
            "Epoch 1/100\n",
            "484/484 [==============================] - 16s 10ms/step - loss: 6.9160 - accuracy: 0.0224\n",
            "Epoch 2/100\n",
            "484/484 [==============================] - 5s 10ms/step - loss: 6.5014 - accuracy: 0.0230\n",
            "Epoch 3/100\n",
            "484/484 [==============================] - 5s 10ms/step - loss: 6.3982 - accuracy: 0.0265\n",
            "Epoch 4/100\n",
            "484/484 [==============================] - 5s 9ms/step - loss: 6.2771 - accuracy: 0.0294\n",
            "Epoch 5/100\n",
            "484/484 [==============================] - 5s 10ms/step - loss: 6.1911 - accuracy: 0.0338\n",
            "Epoch 6/100\n",
            "484/484 [==============================] - 6s 12ms/step - loss: 6.1265 - accuracy: 0.0378\n",
            "Epoch 7/100\n",
            "484/484 [==============================] - 5s 11ms/step - loss: 6.0615 - accuracy: 0.0417\n",
            "Epoch 8/100\n",
            "484/484 [==============================] - 5s 10ms/step - loss: 5.9890 - accuracy: 0.0454\n",
            "Epoch 9/100\n",
            "484/484 [==============================] - 5s 10ms/step - loss: 5.9078 - accuracy: 0.0499\n",
            "Epoch 10/100\n",
            "484/484 [==============================] - 6s 13ms/step - loss: 5.8106 - accuracy: 0.0550\n",
            "Epoch 11/100\n",
            "484/484 [==============================] - 6s 13ms/step - loss: 5.7103 - accuracy: 0.0592\n",
            "Epoch 12/100\n",
            "484/484 [==============================] - 5s 10ms/step - loss: 5.6110 - accuracy: 0.0651\n",
            "Epoch 13/100\n",
            "484/484 [==============================] - 5s 9ms/step - loss: 5.5196 - accuracy: 0.0707\n",
            "Epoch 14/100\n",
            "484/484 [==============================] - 5s 9ms/step - loss: 5.4321 - accuracy: 0.0737\n",
            "Epoch 15/100\n",
            "484/484 [==============================] - 5s 9ms/step - loss: 5.3410 - accuracy: 0.0771\n",
            "Epoch 16/100\n",
            "484/484 [==============================] - 5s 9ms/step - loss: 5.2567 - accuracy: 0.0846\n",
            "Epoch 17/100\n",
            "484/484 [==============================] - 5s 9ms/step - loss: 5.1708 - accuracy: 0.0885\n",
            "Epoch 18/100\n",
            "484/484 [==============================] - 5s 9ms/step - loss: 5.0773 - accuracy: 0.0949\n",
            "Epoch 19/100\n",
            "484/484 [==============================] - 4s 9ms/step - loss: 4.9933 - accuracy: 0.1023\n",
            "Epoch 20/100\n",
            "484/484 [==============================] - 5s 10ms/step - loss: 4.9049 - accuracy: 0.1087\n",
            "Epoch 21/100\n",
            "484/484 [==============================] - 5s 9ms/step - loss: 4.8152 - accuracy: 0.1136\n",
            "Epoch 22/100\n",
            "484/484 [==============================] - 5s 9ms/step - loss: 4.7165 - accuracy: 0.1244\n",
            "Epoch 23/100\n",
            "484/484 [==============================] - 5s 10ms/step - loss: 4.6316 - accuracy: 0.1315\n",
            "Epoch 24/100\n",
            "484/484 [==============================] - 5s 9ms/step - loss: 4.5395 - accuracy: 0.1400\n",
            "Epoch 25/100\n",
            "484/484 [==============================] - 5s 9ms/step - loss: 4.4491 - accuracy: 0.1494\n",
            "Epoch 26/100\n",
            "484/484 [==============================] - 5s 9ms/step - loss: 4.3593 - accuracy: 0.1579\n",
            "Epoch 27/100\n",
            "484/484 [==============================] - 5s 10ms/step - loss: 4.2648 - accuracy: 0.1682\n",
            "Epoch 28/100\n",
            "484/484 [==============================] - 5s 10ms/step - loss: 4.1820 - accuracy: 0.1792\n",
            "Epoch 29/100\n",
            "484/484 [==============================] - 5s 10ms/step - loss: 4.0891 - accuracy: 0.1912\n",
            "Epoch 30/100\n",
            "484/484 [==============================] - 5s 11ms/step - loss: 4.0033 - accuracy: 0.2052\n",
            "Epoch 31/100\n",
            "484/484 [==============================] - 5s 10ms/step - loss: 3.9155 - accuracy: 0.2147\n",
            "Epoch 32/100\n",
            "484/484 [==============================] - 5s 10ms/step - loss: 3.8215 - accuracy: 0.2312\n",
            "Epoch 33/100\n",
            "484/484 [==============================] - 5s 10ms/step - loss: 3.7352 - accuracy: 0.2497\n",
            "Epoch 34/100\n",
            "484/484 [==============================] - 5s 10ms/step - loss: 3.6526 - accuracy: 0.2654\n",
            "Epoch 35/100\n",
            "484/484 [==============================] - 5s 10ms/step - loss: 3.5870 - accuracy: 0.2806\n",
            "Epoch 36/100\n",
            "484/484 [==============================] - 5s 10ms/step - loss: 3.4965 - accuracy: 0.2978\n",
            "Epoch 37/100\n",
            "484/484 [==============================] - 5s 9ms/step - loss: 3.4242 - accuracy: 0.3117\n",
            "Epoch 38/100\n",
            "484/484 [==============================] - 5s 10ms/step - loss: 3.3466 - accuracy: 0.3290\n",
            "Epoch 39/100\n",
            "484/484 [==============================] - 5s 9ms/step - loss: 3.2710 - accuracy: 0.3494\n",
            "Epoch 40/100\n",
            "484/484 [==============================] - 5s 9ms/step - loss: 3.2054 - accuracy: 0.3635\n",
            "Epoch 41/100\n",
            "484/484 [==============================] - 5s 9ms/step - loss: 3.1269 - accuracy: 0.3827\n",
            "Epoch 42/100\n",
            "484/484 [==============================] - 5s 9ms/step - loss: 3.0750 - accuracy: 0.3863\n",
            "Epoch 43/100\n",
            "484/484 [==============================] - 5s 9ms/step - loss: 3.0052 - accuracy: 0.4040\n",
            "Epoch 44/100\n",
            "484/484 [==============================] - 5s 10ms/step - loss: 2.9406 - accuracy: 0.4175\n",
            "Epoch 45/100\n",
            "484/484 [==============================] - 5s 9ms/step - loss: 2.8908 - accuracy: 0.4315\n",
            "Epoch 46/100\n",
            "484/484 [==============================] - 5s 9ms/step - loss: 2.8088 - accuracy: 0.4491\n",
            "Epoch 47/100\n",
            "484/484 [==============================] - 5s 10ms/step - loss: 2.7537 - accuracy: 0.4619\n",
            "Epoch 48/100\n",
            "484/484 [==============================] - 5s 9ms/step - loss: 2.7127 - accuracy: 0.4668\n",
            "Epoch 49/100\n",
            "484/484 [==============================] - 5s 9ms/step - loss: 2.6492 - accuracy: 0.4818\n",
            "Epoch 50/100\n",
            "484/484 [==============================] - 5s 9ms/step - loss: 2.5985 - accuracy: 0.4955\n",
            "Epoch 51/100\n",
            "484/484 [==============================] - 6s 12ms/step - loss: 2.5455 - accuracy: 0.5045\n",
            "Epoch 52/100\n",
            "484/484 [==============================] - 5s 9ms/step - loss: 2.5035 - accuracy: 0.5149\n",
            "Epoch 53/100\n",
            "484/484 [==============================] - 5s 9ms/step - loss: 2.4396 - accuracy: 0.5341\n",
            "Epoch 54/100\n",
            "484/484 [==============================] - 5s 9ms/step - loss: 2.3943 - accuracy: 0.5470\n",
            "Epoch 55/100\n",
            "484/484 [==============================] - 5s 9ms/step - loss: 2.3516 - accuracy: 0.5554\n",
            "Epoch 56/100\n",
            "484/484 [==============================] - 4s 9ms/step - loss: 2.3075 - accuracy: 0.5609\n",
            "Epoch 57/100\n",
            "484/484 [==============================] - 4s 9ms/step - loss: 2.2697 - accuracy: 0.5713\n",
            "Epoch 58/100\n",
            "484/484 [==============================] - 5s 9ms/step - loss: 2.2345 - accuracy: 0.5780\n",
            "Epoch 59/100\n",
            "484/484 [==============================] - 5s 9ms/step - loss: 2.1955 - accuracy: 0.5870\n",
            "Epoch 60/100\n",
            "484/484 [==============================] - 4s 9ms/step - loss: 2.1580 - accuracy: 0.5922\n",
            "Epoch 61/100\n",
            "484/484 [==============================] - 4s 9ms/step - loss: 2.1125 - accuracy: 0.6016\n",
            "Epoch 62/100\n",
            "484/484 [==============================] - 4s 9ms/step - loss: 2.0708 - accuracy: 0.6151\n",
            "Epoch 63/100\n",
            "484/484 [==============================] - 4s 9ms/step - loss: 2.0390 - accuracy: 0.6222\n",
            "Epoch 64/100\n",
            "484/484 [==============================] - 5s 10ms/step - loss: 2.0077 - accuracy: 0.6295\n",
            "Epoch 65/100\n",
            "484/484 [==============================] - 5s 9ms/step - loss: 1.9670 - accuracy: 0.6398\n",
            "Epoch 66/100\n",
            "484/484 [==============================] - 5s 9ms/step - loss: 1.9400 - accuracy: 0.6460\n",
            "Epoch 67/100\n",
            "484/484 [==============================] - 5s 10ms/step - loss: 1.9189 - accuracy: 0.6468\n",
            "Epoch 68/100\n",
            "484/484 [==============================] - 5s 10ms/step - loss: 1.8788 - accuracy: 0.6560\n",
            "Epoch 69/100\n",
            "484/484 [==============================] - 5s 10ms/step - loss: 1.8520 - accuracy: 0.6619\n",
            "Epoch 70/100\n",
            "484/484 [==============================] - 5s 9ms/step - loss: 1.8172 - accuracy: 0.6677\n",
            "Epoch 71/100\n",
            "484/484 [==============================] - 5s 9ms/step - loss: 1.7993 - accuracy: 0.6724\n",
            "Epoch 72/100\n",
            "484/484 [==============================] - 5s 10ms/step - loss: 1.7712 - accuracy: 0.6771\n",
            "Epoch 73/100\n",
            "484/484 [==============================] - 5s 9ms/step - loss: 1.7346 - accuracy: 0.6903\n",
            "Epoch 74/100\n",
            "484/484 [==============================] - 5s 9ms/step - loss: 1.7208 - accuracy: 0.6928\n",
            "Epoch 75/100\n",
            "484/484 [==============================] - 4s 9ms/step - loss: 1.7044 - accuracy: 0.6934\n",
            "Epoch 76/100\n",
            "484/484 [==============================] - 5s 9ms/step - loss: 1.6658 - accuracy: 0.7012\n",
            "Epoch 77/100\n",
            "484/484 [==============================] - 5s 9ms/step - loss: 1.6552 - accuracy: 0.7031\n",
            "Epoch 78/100\n",
            "484/484 [==============================] - 4s 9ms/step - loss: 1.6268 - accuracy: 0.7077\n",
            "Epoch 79/100\n",
            "484/484 [==============================] - 4s 9ms/step - loss: 1.6005 - accuracy: 0.7139\n",
            "Epoch 80/100\n",
            "484/484 [==============================] - 5s 10ms/step - loss: 1.5698 - accuracy: 0.7199\n",
            "Epoch 81/100\n",
            "484/484 [==============================] - 5s 9ms/step - loss: 1.5638 - accuracy: 0.7242\n",
            "Epoch 82/100\n",
            "484/484 [==============================] - 5s 9ms/step - loss: 1.5273 - accuracy: 0.7324\n",
            "Epoch 83/100\n",
            "484/484 [==============================] - 5s 9ms/step - loss: 1.5254 - accuracy: 0.7335\n",
            "Epoch 84/100\n",
            "484/484 [==============================] - 5s 9ms/step - loss: 1.5009 - accuracy: 0.7347\n",
            "Epoch 85/100\n",
            "484/484 [==============================] - 5s 10ms/step - loss: 1.4719 - accuracy: 0.7414\n",
            "Epoch 86/100\n",
            "484/484 [==============================] - 5s 9ms/step - loss: 1.4786 - accuracy: 0.7407\n",
            "Epoch 87/100\n",
            "484/484 [==============================] - 5s 10ms/step - loss: 1.4512 - accuracy: 0.7442\n",
            "Epoch 88/100\n",
            "484/484 [==============================] - 5s 9ms/step - loss: 1.4334 - accuracy: 0.7472\n",
            "Epoch 89/100\n",
            "484/484 [==============================] - 5s 9ms/step - loss: 1.4113 - accuracy: 0.7522\n",
            "Epoch 90/100\n",
            "484/484 [==============================] - 5s 9ms/step - loss: 1.4039 - accuracy: 0.7544\n",
            "Epoch 91/100\n",
            "484/484 [==============================] - 5s 9ms/step - loss: 1.3781 - accuracy: 0.7613\n",
            "Epoch 92/100\n",
            "484/484 [==============================] - 5s 9ms/step - loss: 1.3699 - accuracy: 0.7591\n",
            "Epoch 93/100\n",
            "484/484 [==============================] - 4s 9ms/step - loss: 1.3615 - accuracy: 0.7619\n",
            "Epoch 94/100\n",
            "484/484 [==============================] - 5s 10ms/step - loss: 1.3371 - accuracy: 0.7663\n",
            "Epoch 95/100\n",
            "484/484 [==============================] - 5s 9ms/step - loss: 1.3348 - accuracy: 0.7658\n",
            "Epoch 96/100\n",
            "484/484 [==============================] - 5s 9ms/step - loss: 1.3232 - accuracy: 0.7684\n",
            "Epoch 97/100\n",
            "484/484 [==============================] - 5s 9ms/step - loss: 1.3020 - accuracy: 0.7764\n",
            "Epoch 98/100\n",
            "484/484 [==============================] - 5s 9ms/step - loss: 1.2998 - accuracy: 0.7749\n",
            "Epoch 99/100\n",
            "484/484 [==============================] - 5s 9ms/step - loss: 1.2923 - accuracy: 0.7773\n",
            "Epoch 100/100\n",
            "484/484 [==============================] - 5s 9ms/step - loss: 1.2665 - accuracy: 0.7811\n"
          ]
        }
      ]
    },
    {
      "cell_type": "code",
      "metadata": {
        "id": "1fXTEO3GJ282",
        "outputId": "4cbef8ca-a8e5-4856-9406-23fcb036ba9c",
        "colab": {
          "base_uri": "https://localhost:8080/",
          "height": 545
        }
      },
      "source": [
        "import matplotlib.pyplot as plt\n",
        "acc = history.history['accuracy']\n",
        "loss = history.history['loss']\n",
        "\n",
        "epochs = range(len(acc))\n",
        "\n",
        "plt.plot(epochs, acc, 'b', label='Training accuracy')\n",
        "plt.title('Training accuracy')\n",
        "\n",
        "plt.figure()\n",
        "\n",
        "plt.plot(epochs, loss, 'b', label='Training Loss')\n",
        "plt.title('Training loss')\n",
        "plt.legend()\n",
        "\n",
        "plt.show()"
      ],
      "execution_count": 21,
      "outputs": [
        {
          "output_type": "display_data",
          "data": {
            "image/png": "[encoded data removed]",
            "text/plain": [
              "<Figure size 432x288 with 1 Axes>"
            ]
          },
          "metadata": {
            "needs_background": "light"
          }
        },
        {
          "output_type": "display_data",
          "data": {
            "image/png": "[encoded data removed]",
            "text/plain": [
              "<Figure size 432x288 with 1 Axes>"
            ]
          },
          "metadata": {
            "needs_background": "light"
          }
        }
      ]
    },
    {
      "cell_type": "code",
      "metadata": {
        "id": "6Vc6PHgxa6Hm",
        "outputId": "60456264-b51b-42f2-cc6f-09ec518d6fb2",
        "colab": {
          "base_uri": "https://localhost:8080/"
        }
      },
      "source": [
        "seed_text = \"Help me Obi Wan Kenobi, you're my only hope\"\n",
        "next_words = 100\n",
        "  \n",
        "for _ in range(next_words):\n",
        "\ttoken_list = tokenizer.texts_to_sequences([seed_text])[0]\n",
        "\ttoken_list = pad_sequences([token_list], maxlen=max_sequence_len-1, padding='pre')\n",
        "\tindex = np.argmax(model.predict(token_list, verbose=0))\n",
        "\toutput_word = tokenizer.index_word[index]\n",
        "\tseed_text += \" \" + output_word\n",
        "print(seed_text)"
      ],
      "execution_count": 23,
      "outputs": [
        {
          "output_type": "stream",
          "name": "stdout",
          "text": [
            "Help me Obi Wan Kenobi, you're my only hope them i see it bright crime none shown 'will ' add the time doth go after pleasure set seeming youth assured thee doth stay your way bettering to her gay bear days increase lend desired leave thee now your sight be hide be is so bold foes rare so it bold 'will being words in night up crime crime go pleasure new but bright these growest growest light free prove me your pleasure days dost new back your hand must back his day will glance them more go light prove men respect delight are deceive rehearse invited bear well sight\n"
          ]
        }
      ]
    }
  ]
}