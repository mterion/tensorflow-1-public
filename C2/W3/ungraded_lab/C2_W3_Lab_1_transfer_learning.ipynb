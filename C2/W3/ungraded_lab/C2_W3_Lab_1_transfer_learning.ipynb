{
  "nbformat": 4,
  "nbformat_minor": 0,
  "metadata": {
    "accelerator": "GPU",
    "colab": {
      "name": "C2_W3_Lab_1_transfer_learning.ipynb",
      "provenance": [],
      "collapsed_sections": [],
      "include_colab_link": true
    },
    "kernelspec": {
      "name": "python3",
      "display_name": "Python 3"
    },
    "language_info": {
      "name": "python"
    }
  },
  "cells": [
    {
      "cell_type": "markdown",
      "metadata": {
        "id": "view-in-github",
        "colab_type": "text"
      },
      "source": [
        "<a href=\"https://colab.research.google.com/github/mterion/tensorflow-1-public/blob/main/C2/W3/ungraded_lab/C2_W3_Lab_1_transfer_learning.ipynb\" target=\"_parent\"><img src=\"https://colab.research.google.com/assets/colab-badge.svg\" alt=\"Open In Colab\"/></a>"
      ]
    },
    {
      "cell_type": "markdown",
      "metadata": {
        "id": "rX8mhOLljYeM"
      },
      "source": [
        "##### Copyright 2019 The TensorFlow Authors."
      ]
    },
    {
      "cell_type": "code",
      "metadata": {
        "cellView": "form",
        "id": "BZSlp3DAjdYf"
      },
      "source": [
        "#@title Licensed under the Apache License, Version 2.0 (the \"License\");\n",
        "# you may not use this file except in compliance with the License.\n",
        "# You may obtain a copy of the License at\n",
        "#\n",
        "# https://www.apache.org/licenses/LICENSE-2.0\n",
        "#\n",
        "# Unless required by applicable law or agreed to in writing, software\n",
        "# distributed under the License is distributed on an \"AS IS\" BASIS,\n",
        "# WITHOUT WARRANTIES OR CONDITIONS OF ANY KIND, either express or implied.\n",
        "# See the License for the specific language governing permissions and\n",
        "# limitations under the License."
      ],
      "execution_count": null,
      "outputs": []
    },
    {
      "cell_type": "markdown",
      "metadata": {
        "id": "Qvrr8pLRzJMV"
      },
      "source": [
        "**IMPORTANT NOTE:** This notebook is designed to run as a Colab. Click the button on top that says, `Open in Colab`, to run this notebook as a Colab. Running the notebook on your local machine might result in some of the code blocks throwing errors."
      ]
    },
    {
      "cell_type": "code",
      "metadata": {
        "id": "1xJZ5glPPCRz",
        "outputId": "37d1fb69-e623-4a45-b8ba-e3af182248da",
        "colab": {
          "base_uri": "https://localhost:8080/"
        }
      },
      "source": [
        "import os\n",
        "\n",
        "from tensorflow.keras import layers\n",
        "from tensorflow.keras import Model\n",
        "\n",
        "# Download of the weights for a pretrained inception netw\n",
        "!wget --no-check-certificate \\\n",
        "    https://storage.googleapis.com/mledu-datasets/inception_v3_weights_tf_dim_ordering_tf_kernels_notop.h5 \\\n",
        "    -O /tmp/inception_v3_weights_tf_dim_ordering_tf_kernels_notop.h5\n",
        "  \n"
      ],
      "execution_count": null,
      "outputs": [
        {
          "output_type": "stream",
          "name": "stdout",
          "text": [
            "--2022-01-20 06:13:50--  https://storage.googleapis.com/mledu-datasets/inception_v3_weights_tf_dim_ordering_tf_kernels_notop.h5\n",
            "Resolving storage.googleapis.com (storage.googleapis.com)... 142.250.97.128, 142.251.107.128, 173.194.216.128, ...\n",
            "Connecting to storage.googleapis.com (storage.googleapis.com)|142.250.97.128|:443... connected.\n",
            "HTTP request sent, awaiting response... 200 OK\n",
            "Length: 87910968 (84M) [application/x-hdf]\n",
            "Saving to: ‘/tmp/inception_v3_weights_tf_dim_ordering_tf_kernels_notop.h5’\n",
            "\n",
            "/tmp/inception_v3_w 100%[===================>]  83.84M   164MB/s    in 0.5s    \n",
            "\n",
            "2022-01-20 06:13:50 (164 MB/s) - ‘/tmp/inception_v3_weights_tf_dim_ordering_tf_kernels_notop.h5’ saved [87910968/87910968]\n",
            "\n"
          ]
        }
      ]
    },
    {
      "cell_type": "code",
      "metadata": {
        "id": "KsiBCpQ1VvPp",
        "outputId": "eea67acc-8fbe-4465-ca25-f413077987dd",
        "colab": {
          "base_uri": "https://localhost:8080/"
        }
      },
      "source": [
        "from tensorflow.keras.applications.inception_v3 import InceptionV3\n",
        "\n",
        "local_weights_file = '/tmp/inception_v3_weights_tf_dim_ordering_tf_kernels_notop.h5'\n",
        "\n",
        "pre_trained_model = InceptionV3(input_shape = (150, 150, 3), \n",
        "                                include_top = False,  # ignore the fully connceted layers at the top\n",
        "                                weights = None)  \n",
        "\n",
        "pre_trained_model.load_weights(local_weights_file) # use the downloaded weights\n",
        "\n",
        "for layer in pre_trained_model.layers:\n",
        "  layer.trainable = False    # Lock the layers\n",
        "  \n",
        "#pre_trained_model.summary()\n",
        "\n",
        "last_layer = pre_trained_model.get_layer('mixed7')  # just Id the layer in the summary\n",
        "print('last layer output shape: ', last_layer.output_shape)\n",
        "last_output = last_layer.output"
      ],
      "execution_count": 4,
      "outputs": [
        {
          "output_type": "stream",
          "name": "stdout",
          "text": [
            "last layer output shape:  (None, 7, 7, 768)\n"
          ]
        }
      ]
    },
    {
      "cell_type": "code",
      "metadata": {
        "id": "BMXb913pbvFg"
      },
      "source": [
        "from tensorflow.keras.optimizers import RMSprop\n",
        "\n",
        "# Flatten the output layer to 1 dimension\n",
        "x = layers.Flatten()(last_output)              # Set the model taking the last ouput as an input to it\n",
        "# Add a fully connected layer with 1,024 hidden units and ReLU activation\n",
        "x = layers.Dense(1024, activation='relu')(x)\n",
        "# Add a dropout rate of 0.2\n",
        "x = layers.Dropout(0.2)(x)                  \n",
        "# Add a final sigmoid layer for classification\n",
        "x = layers.Dense  (1, activation='sigmoid')(x)           \n",
        "\n",
        "model = Model( pre_trained_model.input, x) \n",
        "\n",
        "model.compile(optimizer = RMSprop(learning_rate=0.0001), \n",
        "              loss = 'binary_crossentropy', \n",
        "              metrics = ['accuracy'])\n"
      ],
      "execution_count": 5,
      "outputs": []
    },
    {
      "cell_type": "code",
      "metadata": {
        "id": "O4s8HckqGlnb",
        "outputId": "e33767e5-de57-45a3-d300-816fe0e20bbb",
        "colab": {
          "base_uri": "https://localhost:8080/"
        }
      },
      "source": [
        "!gdown --id 1RL0T7Rg4XqQNRCkjfnLo4goOJQ7XZro9\n",
        "\n",
        "from tensorflow.keras.preprocessing.image import ImageDataGenerator\n",
        "\n",
        "import os\n",
        "import zipfile\n",
        "\n",
        "zip_ref = zipfile.ZipFile(\"./cats_and_dogs_filtered.zip\", 'r')\n",
        "zip_ref.extractall(\"tmp/\")\n",
        "zip_ref.close()\n",
        "\n",
        "# Define our example directories and files\n",
        "base_dir = 'tmp/cats_and_dogs_filtered'\n",
        "\n",
        "train_dir = os.path.join( base_dir, 'train')\n",
        "validation_dir = os.path.join( base_dir, 'validation')\n",
        "\n",
        "\n",
        "train_cats_dir = os.path.join(train_dir, 'cats') # Directory with our training cat pictures\n",
        "train_dogs_dir = os.path.join(train_dir, 'dogs') # Directory with our training dog pictures\n",
        "validation_cats_dir = os.path.join(validation_dir, 'cats') # Directory with our validation cat pictures\n",
        "validation_dogs_dir = os.path.join(validation_dir, 'dogs')# Directory with our validation dog pictures\n",
        "\n",
        "train_cat_fnames = os.listdir(train_cats_dir)\n",
        "train_dog_fnames = os.listdir(train_dogs_dir)\n",
        "\n",
        "# Add our data-augmentation parameters to ImageDataGenerator\n",
        "train_datagen = ImageDataGenerator(rescale = 1./255.,\n",
        "                                   rotation_range = 40,\n",
        "                                   width_shift_range = 0.2,\n",
        "                                   height_shift_range = 0.2,\n",
        "                                   shear_range = 0.2,\n",
        "                                   zoom_range = 0.2,\n",
        "                                   horizontal_flip = True)\n",
        "\n",
        "# Note that the validation data should not be augmented!\n",
        "test_datagen = ImageDataGenerator( rescale = 1.0/255. )\n",
        "\n",
        "# Flow training images in batches of 20 using train_datagen generator\n",
        "train_generator = train_datagen.flow_from_directory(train_dir,\n",
        "                                                    batch_size = 20,\n",
        "                                                    class_mode = 'binary', \n",
        "                                                    target_size = (150, 150))     \n",
        "\n",
        "# Flow validation images in batches of 20 using test_datagen generator\n",
        "validation_generator =  test_datagen.flow_from_directory( validation_dir,\n",
        "                                                          batch_size  = 20,\n",
        "                                                          class_mode  = 'binary', \n",
        "                                                          target_size = (150, 150))"
      ],
      "execution_count": 6,
      "outputs": [
        {
          "output_type": "stream",
          "name": "stdout",
          "text": [
            "Downloading...\n",
            "From: https://drive.google.com/uc?id=1RL0T7Rg4XqQNRCkjfnLo4goOJQ7XZro9\n",
            "To: /content/cats_and_dogs_filtered.zip\n",
            "100% 68.6M/68.6M [00:00<00:00, 96.0MB/s]\n",
            "Found 2000 images belonging to 2 classes.\n",
            "Found 1000 images belonging to 2 classes.\n"
          ]
        }
      ]
    },
    {
      "cell_type": "code",
      "metadata": {
        "id": "Blhq2MAUeyGA",
        "outputId": "0b76e01c-b60f-4380-db0c-1914c2a652e2",
        "colab": {
          "base_uri": "https://localhost:8080/"
        }
      },
      "source": [
        "history = model.fit(\n",
        "            train_generator,\n",
        "            validation_data = validation_generator,\n",
        "            steps_per_epoch = 100,\n",
        "            epochs = 20,\n",
        "            validation_steps = 50,\n",
        "            verbose = 2)"
      ],
      "execution_count": 7,
      "outputs": [
        {
          "output_type": "stream",
          "name": "stdout",
          "text": [
            "Epoch 1/20\n",
            "100/100 - 38s - loss: 0.3469 - accuracy: 0.8610 - val_loss: 0.0887 - val_accuracy: 0.9660 - 38s/epoch - 379ms/step\n",
            "Epoch 2/20\n",
            "100/100 - 23s - loss: 0.2007 - accuracy: 0.9215 - val_loss: 0.1103 - val_accuracy: 0.9570 - 23s/epoch - 233ms/step\n",
            "Epoch 3/20\n",
            "100/100 - 24s - loss: 0.2265 - accuracy: 0.9195 - val_loss: 0.1158 - val_accuracy: 0.9580 - 24s/epoch - 239ms/step\n",
            "Epoch 4/20\n",
            "100/100 - 23s - loss: 0.1786 - accuracy: 0.9365 - val_loss: 0.1102 - val_accuracy: 0.9610 - 23s/epoch - 230ms/step\n",
            "Epoch 5/20\n",
            "100/100 - 24s - loss: 0.1809 - accuracy: 0.9300 - val_loss: 0.2180 - val_accuracy: 0.9390 - 24s/epoch - 236ms/step\n",
            "Epoch 6/20\n",
            "100/100 - 23s - loss: 0.1779 - accuracy: 0.9375 - val_loss: 0.1633 - val_accuracy: 0.9460 - 23s/epoch - 226ms/step\n",
            "Epoch 7/20\n",
            "100/100 - 22s - loss: 0.1820 - accuracy: 0.9335 - val_loss: 0.1175 - val_accuracy: 0.9620 - 22s/epoch - 218ms/step\n",
            "Epoch 8/20\n",
            "100/100 - 21s - loss: 0.1528 - accuracy: 0.9485 - val_loss: 0.1532 - val_accuracy: 0.9540 - 21s/epoch - 214ms/step\n",
            "Epoch 9/20\n",
            "100/100 - 21s - loss: 0.1678 - accuracy: 0.9460 - val_loss: 0.2394 - val_accuracy: 0.9350 - 21s/epoch - 214ms/step\n",
            "Epoch 10/20\n",
            "100/100 - 22s - loss: 0.1934 - accuracy: 0.9390 - val_loss: 0.1023 - val_accuracy: 0.9710 - 22s/epoch - 224ms/step\n",
            "Epoch 11/20\n",
            "100/100 - 22s - loss: 0.1476 - accuracy: 0.9495 - val_loss: 0.1058 - val_accuracy: 0.9710 - 22s/epoch - 215ms/step\n",
            "Epoch 12/20\n",
            "100/100 - 22s - loss: 0.1907 - accuracy: 0.9360 - val_loss: 0.1012 - val_accuracy: 0.9740 - 22s/epoch - 221ms/step\n",
            "Epoch 13/20\n",
            "100/100 - 22s - loss: 0.1378 - accuracy: 0.9545 - val_loss: 0.1412 - val_accuracy: 0.9650 - 22s/epoch - 219ms/step\n",
            "Epoch 14/20\n",
            "100/100 - 22s - loss: 0.1357 - accuracy: 0.9570 - val_loss: 0.1337 - val_accuracy: 0.9660 - 22s/epoch - 222ms/step\n",
            "Epoch 15/20\n",
            "100/100 - 22s - loss: 0.1524 - accuracy: 0.9545 - val_loss: 0.1199 - val_accuracy: 0.9620 - 22s/epoch - 215ms/step\n",
            "Epoch 16/20\n",
            "100/100 - 21s - loss: 0.1322 - accuracy: 0.9560 - val_loss: 0.1080 - val_accuracy: 0.9690 - 21s/epoch - 213ms/step\n",
            "Epoch 17/20\n",
            "100/100 - 22s - loss: 0.1716 - accuracy: 0.9510 - val_loss: 0.1180 - val_accuracy: 0.9710 - 22s/epoch - 224ms/step\n",
            "Epoch 18/20\n",
            "100/100 - 21s - loss: 0.1281 - accuracy: 0.9585 - val_loss: 0.1315 - val_accuracy: 0.9680 - 21s/epoch - 214ms/step\n",
            "Epoch 19/20\n",
            "100/100 - 22s - loss: 0.1259 - accuracy: 0.9545 - val_loss: 0.1100 - val_accuracy: 0.9700 - 22s/epoch - 221ms/step\n",
            "Epoch 20/20\n",
            "100/100 - 21s - loss: 0.1503 - accuracy: 0.9520 - val_loss: 0.0988 - val_accuracy: 0.9710 - 21s/epoch - 213ms/step\n"
          ]
        }
      ]
    },
    {
      "cell_type": "code",
      "metadata": {
        "id": "C2Fp6Se9rKuL",
        "outputId": "aab14240-f28f-4bea-a7e3-96e37e2700c6",
        "colab": {
          "base_uri": "https://localhost:8080/",
          "height": 298
        }
      },
      "source": [
        "import matplotlib.pyplot as plt\n",
        "acc = history.history['accuracy']\n",
        "val_acc = history.history['val_accuracy']\n",
        "loss = history.history['loss']\n",
        "val_loss = history.history['val_loss']\n",
        "\n",
        "epochs = range(len(acc))\n",
        "\n",
        "plt.plot(epochs, acc, 'r', label='Training accuracy')\n",
        "plt.plot(epochs, val_acc, 'b', label='Validation accuracy')\n",
        "plt.title('Training and validation accuracy')\n",
        "plt.legend(loc=0)\n",
        "plt.figure()\n",
        "\n",
        "\n",
        "plt.show()"
      ],
      "execution_count": 8,
      "outputs": [
        {
          "output_type": "display_data",
          "data": {
            "image/png": "[encoded data removed]",
            "text/plain": [
              "<Figure size 432x288 with 1 Axes>"
            ]
          },
          "metadata": {
            "needs_background": "light"
          }
        },
        {
          "output_type": "display_data",
          "data": {
            "text/plain": [
              "<Figure size 432x288 with 0 Axes>"
            ]
          },
          "metadata": {}
        }
      ]
    }
  ]
}